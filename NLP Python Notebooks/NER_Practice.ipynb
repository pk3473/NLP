{
 "cells": [
  {
   "cell_type": "code",
   "execution_count": 1,
   "metadata": {},
   "outputs": [
    {
     "name": "stdout",
     "output_type": "stream",
     "text": [
      "['David', 'will', 'visit', 'IBM', 'Corp.', 'office', 'in', 'London']\n"
     ]
    }
   ],
   "source": [
    "import nltk\n",
    "\n",
    "text =\"David will visit IBM Corp. office in London\"\n",
    "\n",
    "tokens = nltk.word_tokenize(text)\n",
    "print(tokens)"
   ]
  },
  {
   "cell_type": "code",
   "execution_count": 4,
   "metadata": {},
   "outputs": [
    {
     "data": {
      "text/plain": [
       "[('David', 'NNP'),\n",
       " ('will', 'MD'),\n",
       " ('visit', 'VB'),\n",
       " ('IBM', 'NNP'),\n",
       " ('Corp.', 'NNP'),\n",
       " ('office', 'NN'),\n",
       " ('in', 'IN'),\n",
       " ('London', 'NNP')]"
      ]
     },
     "execution_count": 4,
     "metadata": {},
     "output_type": "execute_result"
    }
   ],
   "source": [
    "pos = nltk.pos_tag(tokens)\n",
    "\n",
    "pos"
   ]
  },
  {
   "cell_type": "code",
   "execution_count": 12,
   "metadata": {},
   "outputs": [],
   "source": [
    "chunks = nltk.ne_chunk(pos)"
   ]
  },
  {
   "cell_type": "code",
   "execution_count": 13,
   "metadata": {},
   "outputs": [
    {
     "name": "stdout",
     "output_type": "stream",
     "text": [
      "(PERSON David/NNP)\n",
      "('will', 'MD')\n",
      "('visit', 'VB')\n",
      "(ORGANIZATION IBM/NNP Corp./NNP)\n",
      "('office', 'NN')\n",
      "('in', 'IN')\n",
      "(GPE London/NNP)\n"
     ]
    }
   ],
   "source": [
    "for chunk in chunks:\n",
    "    print(chunk)"
   ]
  },
  {
   "cell_type": "code",
   "execution_count": 14,
   "metadata": {},
   "outputs": [
    {
     "name": "stdout",
     "output_type": "stream",
     "text": [
      "(PERSON David/NNP)\n",
      "(ORGANIZATION IBM/NNP Corp./NNP)\n",
      "(GPE London/NNP)\n"
     ]
    }
   ],
   "source": [
    "for chunk in chunks:\n",
    "    if hasattr(chunk,\"label\"):\n",
    "        print(chunk)\n",
    "        "
   ]
  },
  {
   "cell_type": "markdown",
   "metadata": {},
   "source": [
    "We can also use another library StandfordcoreNLP which gives good NER. But people often uses SpaCy."
   ]
  },
  {
   "cell_type": "code",
   "execution_count": null,
   "metadata": {},
   "outputs": [],
   "source": []
  }
 ],
 "metadata": {
  "kernelspec": {
   "display_name": "Python 3",
   "language": "python",
   "name": "python3"
  },
  "language_info": {
   "codemirror_mode": {
    "name": "ipython",
    "version": 3
   },
   "file_extension": ".py",
   "mimetype": "text/x-python",
   "name": "python",
   "nbconvert_exporter": "python",
   "pygments_lexer": "ipython3",
   "version": "3.7.4"
  }
 },
 "nbformat": 4,
 "nbformat_minor": 2
}
