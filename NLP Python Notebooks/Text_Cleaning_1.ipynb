{
 "cells": [
  {
   "cell_type": "code",
   "execution_count": 1,
   "metadata": {},
   "outputs": [],
   "source": [
    "text = \"\"\"It is raining heavily today and I am not sure if I will be able to travel.\n",
    "Can we postpone our meeting. Hope it is fine with you :) I am sending the new meeting invite on \n",
    "<a href= \"www.example.com\"> this link </a> \"\"\""
   ]
  },
  {
   "cell_type": "code",
   "execution_count": 3,
   "metadata": {},
   "outputs": [
    {
     "name": "stdout",
     "output_type": "stream",
     "text": [
      "It is raining heavily today and I am not sure if I will be able to travel.\n",
      "Can we postpone our meeting. Hope it is fine with you :) I am sending the new meeting invite on \n",
      "<a href= \"www.example.com\"> this link </a> \n"
     ]
    }
   ],
   "source": [
    "print(text)"
   ]
  },
  {
   "cell_type": "code",
   "execution_count": 4,
   "metadata": {},
   "outputs": [],
   "source": [
    "text = text.lower()"
   ]
  },
  {
   "cell_type": "code",
   "execution_count": 5,
   "metadata": {},
   "outputs": [
    {
     "data": {
      "text/plain": [
       "'it is raining heavily today and i am not sure if i will be able to travel.\\ncan we postpone our meeting. hope it is fine with you :) i am sending the new meeting invite on \\n<a href= \"www.example.com\"> this link </a> '"
      ]
     },
     "execution_count": 5,
     "metadata": {},
     "output_type": "execute_result"
    }
   ],
   "source": [
    "text"
   ]
  },
  {
   "cell_type": "code",
   "execution_count": 6,
   "metadata": {},
   "outputs": [
    {
     "data": {
      "text/plain": [
       "'it is raining heavily today and i am not sure if i will be able to travel.\\ncan we postpone our meeting. hope it is fine with you :) i am sending the new meeting invite on \\n this link  '"
      ]
     },
     "execution_count": 6,
     "metadata": {},
     "output_type": "execute_result"
    }
   ],
   "source": [
    "import re\n",
    "\n",
    "text = re.sub(\"<[^<]+?>\",\"\",text)\n",
    "\n",
    "text"
   ]
  },
  {
   "cell_type": "code",
   "execution_count": 7,
   "metadata": {},
   "outputs": [
    {
     "data": {
      "text/plain": [
       "'it is raining heavily today and i am not sure if i will be able to travel\\ncan we postpone our meeting hope it is fine with you  i am sending the new meeting invite on \\n this link  '"
      ]
     },
     "execution_count": 7,
     "metadata": {},
     "output_type": "execute_result"
    }
   ],
   "source": [
    "#Removing Punctuation\n",
    "\n",
    "import string\n",
    "\n",
    "punc = string.punctuation\n",
    "\n",
    "text = \"\".join(char for char in text if char not in punc)\n",
    "\n",
    "text"
   ]
  },
  {
   "cell_type": "code",
   "execution_count": 8,
   "metadata": {},
   "outputs": [
    {
     "data": {
      "text/plain": [
       "'it is raining heavily today and i am not sure if i will be able to travel can we postpone our meeting hope it is fine with you  i am sending the new meeting invite on   this link  '"
      ]
     },
     "execution_count": 8,
     "metadata": {},
     "output_type": "execute_result"
    }
   ],
   "source": [
    "text = text.replace(\"\\n\",\" \")\n",
    "text"
   ]
  },
  {
   "cell_type": "code",
   "execution_count": 12,
   "metadata": {},
   "outputs": [
    {
     "data": {
      "text/plain": [
       "' raining heavily today sure able travel postpone meeting hope fine sending new meeting invite link'"
      ]
     },
     "execution_count": 12,
     "metadata": {},
     "output_type": "execute_result"
    }
   ],
   "source": [
    "# stopwords\n",
    "\n",
    "from nltk.corpus import stopwords\n",
    "stop = stopwords.words('english')\n",
    "\n",
    "\n",
    "text_cleaned = \"\"\n",
    "for word in text.split():\n",
    "    if word in stop:\n",
    "        pass\n",
    "    else:\n",
    "        text_cleaned += \" \"\n",
    "        text_cleaned += word \n",
    "\n",
    "text_cleaned"
   ]
  },
  {
   "cell_type": "code",
   "execution_count": 14,
   "metadata": {},
   "outputs": [
    {
     "data": {
      "text/plain": [
       "' it is raining heavily today and i am not sure if i will be able to travel can we postpone our meeting hope it is fine with you i am sending the new meeting invite on this link'"
      ]
     },
     "execution_count": 14,
     "metadata": {},
     "output_type": "execute_result"
    }
   ],
   "source": [
    "from nltk.stem import WordNetLemmatizer\n",
    "\n",
    "lemm = WordNetLemmatizer()\n",
    "\n",
    "text_cleaned1 = \"\"\n",
    "for word in text.split():\n",
    "    word = lemm.lemmatize(word)\n",
    "    text_cleaned1 += \" \"\n",
    "    text_cleaned1 +=  word\n",
    "    \n",
    "text_cleaned1"
   ]
  },
  {
   "cell_type": "code",
   "execution_count": 15,
   "metadata": {},
   "outputs": [
    {
     "data": {
      "text/plain": [
       "' it be rain heavily today and i be not sure if i will be able to travel can we postpone our meet hope it be fine with you i be send the new meet invite on this link'"
      ]
     },
     "execution_count": 15,
     "metadata": {},
     "output_type": "execute_result"
    }
   ],
   "source": [
    "text_cleaned1 = \"\"\n",
    "for word in text.split():\n",
    "    word = lemm.lemmatize(word, pos =\"v\") \n",
    "    text_cleaned1 += \" \"\n",
    "    text_cleaned1 +=  word\n",
    "    \n",
    "text_cleaned1\n",
    "\n",
    "# Raining is converted to rain after defiing POS\n",
    "# meeting is converted to meet, etc."
   ]
  },
  {
   "cell_type": "code",
   "execution_count": 17,
   "metadata": {},
   "outputs": [
    {
     "data": {
      "text/plain": [
       "'it be rain heavily today and i be not sure if i will be able to travel can we postpone our meet hope it be fine with you i be send the new meet invite on this link'"
      ]
     },
     "execution_count": 17,
     "metadata": {},
     "output_type": "execute_result"
    }
   ],
   "source": [
    "text = text_cleaned1.strip() # This helps to remove/get rid of spaces present in the end\n",
    "text"
   ]
  }
 ],
 "metadata": {
  "kernelspec": {
   "display_name": "Python 3",
   "language": "python",
   "name": "python3"
  },
  "language_info": {
   "codemirror_mode": {
    "name": "ipython",
    "version": 3
   },
   "file_extension": ".py",
   "mimetype": "text/x-python",
   "name": "python",
   "nbconvert_exporter": "python",
   "pygments_lexer": "ipython3",
   "version": "3.7.4"
  }
 },
 "nbformat": 4,
 "nbformat_minor": 2
}
