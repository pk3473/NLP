{
 "cells": [
  {
   "cell_type": "code",
   "execution_count": 1,
   "metadata": {},
   "outputs": [],
   "source": [
    "# Importing Libraries\n",
    "# Read Data\n",
    "# Explore and pre-process text\n",
    "# Topic Modeling"
   ]
  },
  {
   "cell_type": "code",
   "execution_count": 2,
   "metadata": {},
   "outputs": [],
   "source": [
    "import numpy as np\n",
    "import pandas as pd\n",
    "import nltk\n",
    "import spacy\n",
    "import re\n",
    "import os\n",
    "import matplotlib.pyplot as plt\n",
    "import seaborn as sns\n",
    "\n",
    "pd.set_option(\"display.max_colwidth\",200)"
   ]
  },
  {
   "cell_type": "code",
   "execution_count": 3,
   "metadata": {},
   "outputs": [],
   "source": [
    "# open the file using open() function\n",
    "\n",
    "file = open('bbc_sports_articles/003.txt', mode = 'rt', encoding = 'utf-8')\n",
    "\n",
    "# read the content of the file using .read() function\n",
    "\n",
    "text = file.read()\n",
    "\n",
    "# close the file using .close() function\n",
    "\n",
    "file.close()"
   ]
  },
  {
   "cell_type": "code",
   "execution_count": 4,
   "metadata": {},
   "outputs": [
    {
     "data": {
      "text/plain": [
       "'Greene sets sights on world title\\n\\nMaurice Greene aims to wipe out the pain of losing his Olympic 100m title in Athens by winning a fourth World Championship crown this summer.\\n\\nHe had to settle for bronze in Greece behind fellow American Justin Gatlin and Francis Obikwelu of Portugal. \"It really hurts to look at that medal. It was my mistake. I lost because of the things I did,\" said Greene, who races in Birmingham on Friday. \"It\\'s never going to happen again. My goal - I\\'m going to win the worlds.\" Greene crossed the line just 0.02 seconds behind Gatlin, who won in 9.87 seconds in one of the closest and fastest sprints of all time. But Greene believes he lost the race and his title in the semi-finals. \"In my semi-final race, I should have won the race but I was conserving energy. \"That\\'s when Francis Obikwelu came up and I took third because I didn\\'t know he was there. \"I believe that\\'s what put me in lane seven in the final and, while I was in lane seven, I couldn\\'t feel anything in the race.\\n\\n\"I just felt like I was running all alone. \"I believe if I was in the middle of the race I would have been able to react to people that came ahead of me.\" Greene was also denied Olympic gold in the 4x100m men\\'s relay when he could not catch Britain\\'s Mark Lewis-Francis on the final leg. The Kansas star is set to go head-to-head with Lewis-Francis again at Friday\\'s Norwich Union Grand Prix. The pair contest the 60m, the distance over which Greene currently holds the world record of 6.39 seconds. He then has another indoor meeting in France before resuming training for the outdoor season and the task of recapturing his world title in Helsinki in August. Greene believes Gatlin will again prove the biggest threat to his ambitions in Finland. But he also admits he faces more than one rival for the world crown. \"There\\'s always someone else coming. I think when I was coming up I would say there was me and Ato (Boldon) in the young crowd,\" Greene said. \"Now you\\'ve got about five or six young guys coming up at the same time.\"\\n'"
      ]
     },
     "execution_count": 4,
     "metadata": {},
     "output_type": "execute_result"
    }
   ],
   "source": [
    "text"
   ]
  },
  {
   "cell_type": "code",
   "execution_count": 5,
   "metadata": {},
   "outputs": [],
   "source": [
    "# Reading all the files \n",
    "\n",
    "file_names = os.listdir(\"bbc_sports_articles\")"
   ]
  },
  {
   "cell_type": "code",
   "execution_count": 6,
   "metadata": {},
   "outputs": [
    {
     "data": {
      "text/plain": [
       "471"
      ]
     },
     "execution_count": 6,
     "metadata": {},
     "output_type": "execute_result"
    }
   ],
   "source": [
    "len(file_names)"
   ]
  },
  {
   "cell_type": "code",
   "execution_count": 7,
   "metadata": {},
   "outputs": [
    {
     "data": {
      "text/plain": [
       "['001.txt',\n",
       " '002.txt',\n",
       " '003.txt',\n",
       " '004.txt',\n",
       " '005.txt',\n",
       " '006.txt',\n",
       " '007.txt',\n",
       " '008.txt',\n",
       " '009.txt',\n",
       " '010.txt']"
      ]
     },
     "execution_count": 7,
     "metadata": {},
     "output_type": "execute_result"
    }
   ],
   "source": [
    "# print first 10 file names\n",
    "\n",
    "file_names[:10]"
   ]
  },
  {
   "cell_type": "code",
   "execution_count": 8,
   "metadata": {},
   "outputs": [],
   "source": [
    "articles = []\n",
    "\n",
    "#read all articles\n",
    "for f in file_names:\n",
    "    file = open('bbc_sports_articles/'+f, mode = 'rt', encoding = 'utf-8')\n",
    "    text = file.read()\n",
    "    file.close()\n",
    "    \n",
    "    articles.append(text)"
   ]
  },
  {
   "cell_type": "code",
   "execution_count": 9,
   "metadata": {},
   "outputs": [
    {
     "data": {
      "text/plain": [
       "471"
      ]
     },
     "execution_count": 9,
     "metadata": {},
     "output_type": "execute_result"
    }
   ],
   "source": [
    "len(articles)"
   ]
  },
  {
   "cell_type": "markdown",
   "metadata": {},
   "source": [
    "## Data Exploration and pre-processing text"
   ]
  },
  {
   "cell_type": "code",
   "execution_count": 10,
   "metadata": {},
   "outputs": [
    {
     "data": {
      "text/plain": [
       "'Scrum-half Williams rejoins Bath\\n\\nBath have signed their former scrum-half Andy Williams on a short-term deal from the Neath-Swansea Ospreys.\\n\\nWales international Williams, whose contract with the Welsh region was due to expire in June, has agreed a contract until the end of the season. With Martyn Wood\\'s injury likely to keep him out until February, Bath need experienced back-up to Nick Walshe. Said Williams: \"When this opportunity presented itself, I did not really have to think twice about it.\" Williams, capped by Wales against Romania in 2003, should figure in the match squad for Monday\\'s Zurich Premiership match at Sale Sharks. He lost his Ospreys starting place to New Zealander Jason Spice and has fallen further behind in the pecking order. The Welsh region has two outstanding young No 9 prospects in Richie Rees and Rhodri Wells. Bath director of rugby Jack Rowell, though, believes Williams fits the bill perfectly. \"He has been playing regular Heineken Cup and Celtic League rugby and he has a great affection for Bath,\" Rowell told Bath\\'s official website. \"We are delighted to be able to welcome him back to the club.\"\\n'"
      ]
     },
     "execution_count": 10,
     "metadata": {},
     "output_type": "execute_result"
    }
   ],
   "source": [
    "articles[300]"
   ]
  },
  {
   "cell_type": "code",
   "execution_count": 11,
   "metadata": {},
   "outputs": [
    {
     "data": {
      "text/plain": [
       "'Ref stands by Scotland decisions\\n\\nThe referee from Saturday\\'s France v Scotland Six Nations match has defended the officials\\' handling of the game after criticism by Matt Williams.\\n\\nThe Scotland coach said his side were robbed of victory by poor decisions made by the officials. But Nigel Williams said: \"I\\'m satisfied the game was handled correctly.\" Meanwhile, Matt Williams will not be punished by the Scottish Rugby Union for allegedly using bad language in his comments about the officials. He denies having done so. Nonetheless, he was furious about several decisions that he felt denied his side a famous victory. But Nigel Williams told the Scottish Daily Mail: \"I spoke to Matt Williams at the post-match dinner. \"He made no mention of the disallowed try or any other refereeing decisions whatsoever. \"If Matt has issues with the match officials, then he is very welcome to phone me and discuss them. \"Ultimately there is a match assessor at every international game to give an impartial and objective view of the performance of the officials. \"That is the beginning and end of it.\"\\n'"
      ]
     },
     "execution_count": 11,
     "metadata": {},
     "output_type": "execute_result"
    }
   ],
   "source": [
    "articles[233]"
   ]
  },
  {
   "cell_type": "markdown",
   "metadata": {},
   "source": [
    "we can see new lines \\n and back slash in all the articles"
   ]
  },
  {
   "cell_type": "code",
   "execution_count": 12,
   "metadata": {},
   "outputs": [],
   "source": [
    "clean_articles = []\n",
    "\n",
    "for i in articles:\n",
    "    clean_articles.append(i.replace(\"\\n\",\" \").replace(\"\\'\", \" \"))\n",
    "    "
   ]
  },
  {
   "cell_type": "code",
   "execution_count": 13,
   "metadata": {},
   "outputs": [
    {
     "data": {
      "text/plain": [
       "'Holmes is hit by hamstring injury  Kelly Holmes has been forced out of this weekend s European Indoor Athletics Championships after picking up a hamstring injury during training.  The double Olympic champion said: \"I am very disappointed that I have been forced to withdraw. \"I can hardly walk at the moment and I won t be able to do any running for two or three weeks although I ll be keeping fit as best I can.\" Holmes will have now have intensive treatment in South Africa.  The 34-year-old made a cautious start to the season but looked back to her best when she stormed to the 1,000m title at the Birmingham Grand Prix 10 days ago. After that race and more progress in training, Holmes revealed she had decided to compete at the European Indoors before her plans were wrecked last weekend. \"On Saturday night I pulled my hamstring running the last bend on my final 200m of the night,\" said Holmes. \"I was going really, really well when I felt a massive spasm in my left leg and my hamstring blew. \"I saw the doctor here and he has said it is not serious but it s frustrating missing Madrid when I knew I was in great shape.\" Holmes has now been advised by her coach Margot Jennings not to rush back into training and it is unlikely she will compete again until the summer. Helen Clitheroe now goes to Madrid as the only British competitor in the women s 1500m while there will be no representative in the 800m. '"
      ]
     },
     "execution_count": 13,
     "metadata": {},
     "output_type": "execute_result"
    }
   ],
   "source": [
    "clean_articles[54]"
   ]
  },
  {
   "cell_type": "markdown",
   "metadata": {},
   "source": [
    "Still there are numbers, punctuations and special characters which need to be removed"
   ]
  },
  {
   "cell_type": "code",
   "execution_count": 14,
   "metadata": {},
   "outputs": [],
   "source": [
    "clean_articles = [re.sub(\"[^a-zA-z]\",\" \",x) for x in clean_articles] # Replaces anything that is not alphabet"
   ]
  },
  {
   "cell_type": "code",
   "execution_count": 15,
   "metadata": {},
   "outputs": [
    {
     "data": {
      "text/plain": [
       "'Holmes is hit by hamstring injury  Kelly Holmes has been forced out of this weekend s European Indoor Athletics Championships after picking up a hamstring injury during training   The double Olympic champion said   I am very disappointed that I have been forced to withdraw   I can hardly walk at the moment and I won t be able to do any running for two or three weeks although I ll be keeping fit as best I can   Holmes will have now have intensive treatment in South Africa   The    year old made a cautious start to the season but looked back to her best when she stormed to the      m title at the Birmingham Grand Prix    days ago  After that race and more progress in training  Holmes revealed she had decided to compete at the European Indoors before her plans were wrecked last weekend   On Saturday night I pulled my hamstring running the last bend on my final    m of the night   said Holmes   I was going really  really well when I felt a massive spasm in my left leg and my hamstring blew   I saw the doctor here and he has said it is not serious but it s frustrating missing Madrid when I knew I was in great shape   Holmes has now been advised by her coach Margot Jennings not to rush back into training and it is unlikely she will compete again until the summer  Helen Clitheroe now goes to Madrid as the only British competitor in the women s     m while there will be no representative in the    m  '"
      ]
     },
     "execution_count": 15,
     "metadata": {},
     "output_type": "execute_result"
    }
   ],
   "source": [
    "clean_articles[54]"
   ]
  },
  {
   "cell_type": "markdown",
   "metadata": {},
   "source": [
    "You can see lot of spaces and single character terms which are not useful"
   ]
  },
  {
   "cell_type": "code",
   "execution_count": 16,
   "metadata": {},
   "outputs": [],
   "source": [
    "clean_articles = [' '.join([w for w in x.split() if len(w)>1]) for x in clean_articles] "
   ]
  },
  {
   "cell_type": "code",
   "execution_count": 17,
   "metadata": {},
   "outputs": [
    {
     "data": {
      "text/plain": [
       "'Holmes is hit by hamstring injury Kelly Holmes has been forced out of this weekend European Indoor Athletics Championships after picking up hamstring injury during training The double Olympic champion said am very disappointed that have been forced to withdraw can hardly walk at the moment and won be able to do any running for two or three weeks although ll be keeping fit as best can Holmes will have now have intensive treatment in South Africa The year old made cautious start to the season but looked back to her best when she stormed to the title at the Birmingham Grand Prix days ago After that race and more progress in training Holmes revealed she had decided to compete at the European Indoors before her plans were wrecked last weekend On Saturday night pulled my hamstring running the last bend on my final of the night said Holmes was going really really well when felt massive spasm in my left leg and my hamstring blew saw the doctor here and he has said it is not serious but it frustrating missing Madrid when knew was in great shape Holmes has now been advised by her coach Margot Jennings not to rush back into training and it is unlikely she will compete again until the summer Helen Clitheroe now goes to Madrid as the only British competitor in the women while there will be no representative in the'"
      ]
     },
     "execution_count": 17,
     "metadata": {},
     "output_type": "execute_result"
    }
   ],
   "source": [
    "clean_articles[54]"
   ]
  },
  {
   "cell_type": "markdown",
   "metadata": {},
   "source": [
    "It is best practice to convert the text into lower case. Otherwise it unnecssarily increases the number of unique words which will lead to more computation demand"
   ]
  },
  {
   "cell_type": "markdown",
   "metadata": {},
   "source": [
    "But/but ---> these will be considered as 2 words"
   ]
  },
  {
   "cell_type": "code",
   "execution_count": 18,
   "metadata": {},
   "outputs": [],
   "source": [
    "clean_articles = [x.lower() for x in clean_articles]"
   ]
  },
  {
   "cell_type": "code",
   "execution_count": 19,
   "metadata": {},
   "outputs": [
    {
     "data": {
      "text/plain": [
       "'holmes is hit by hamstring injury kelly holmes has been forced out of this weekend european indoor athletics championships after picking up hamstring injury during training the double olympic champion said am very disappointed that have been forced to withdraw can hardly walk at the moment and won be able to do any running for two or three weeks although ll be keeping fit as best can holmes will have now have intensive treatment in south africa the year old made cautious start to the season but looked back to her best when she stormed to the title at the birmingham grand prix days ago after that race and more progress in training holmes revealed she had decided to compete at the european indoors before her plans were wrecked last weekend on saturday night pulled my hamstring running the last bend on my final of the night said holmes was going really really well when felt massive spasm in my left leg and my hamstring blew saw the doctor here and he has said it is not serious but it frustrating missing madrid when knew was in great shape holmes has now been advised by her coach margot jennings not to rush back into training and it is unlikely she will compete again until the summer helen clitheroe now goes to madrid as the only british competitor in the women while there will be no representative in the'"
      ]
     },
     "execution_count": 19,
     "metadata": {},
     "output_type": "execute_result"
    }
   ],
   "source": [
    "clean_articles[54]"
   ]
  },
  {
   "cell_type": "code",
   "execution_count": 20,
   "metadata": {},
   "outputs": [
    {
     "data": {
      "text/plain": [
       "list"
      ]
     },
     "execution_count": 20,
     "metadata": {},
     "output_type": "execute_result"
    }
   ],
   "source": [
    "type(clean_articles)"
   ]
  },
  {
   "cell_type": "markdown",
   "metadata": {},
   "source": [
    "We need to do Topic Modeling to see the relavant words (Sports) more often"
   ]
  },
  {
   "cell_type": "code",
   "execution_count": 21,
   "metadata": {},
   "outputs": [],
   "source": [
    "# function to pick to top 30 words from our data\n",
    "\n",
    "def freq_words(x, terms=30):\n",
    "    \n",
    "    # combine all the articles\n",
    "    text =' '.join([text for text in x])\n",
    "    \n",
    "    #split text into words\n",
    "    all_words = text.split()\n",
    "    \n",
    "    #prepare a dictionary of word-frequency pairs\n",
    "    fdist = nltk.FreqDist(all_words)\n",
    "    words_df = pd.DataFrame({'word':list(fdist.keys()),'count':list(fdist.values())})\n",
    "    \n",
    "    #select top n most frequent words\n",
    "    \n",
    "    d = words_df.nlargest(columns = 'count', n = terms)\n",
    "    \n",
    "    #plot the word counts\n",
    "    \n",
    "    plt.figure(figsize = (20,5))\n",
    "    ax = sns.barplot(data = d, x ='word', y = 'count')\n",
    "    \n",
    "    ax.set(ylabel = 'Count')\n",
    "    plt.show()\n",
    "    "
   ]
  },
  {
   "cell_type": "code",
   "execution_count": 22,
   "metadata": {},
   "outputs": [
    {
     "data": {
      "image/png": "[encoded data removed]",
      "text/plain": [
       "<Figure size 1440x360 with 1 Axes>"
      ]
     },
     "metadata": {
      "needs_background": "light"
     },
     "output_type": "display_data"
    }
   ],
   "source": [
    "freq_words(clean_articles)"
   ]
  },
  {
   "cell_type": "markdown",
   "metadata": {},
   "source": [
    "It is advisable first normlizing the words and the remove the stop words. Becasue after normalization, non stop word can get converted into stopwords"
   ]
  },
  {
   "cell_type": "markdown",
   "metadata": {},
   "source": [
    "Normalization can be done with SpaCy as well as NLTK"
   ]
  },
  {
   "cell_type": "code",
   "execution_count": 23,
   "metadata": {},
   "outputs": [],
   "source": [
    "nlp = spacy.load('en_core_web_sm')"
   ]
  },
  {
   "cell_type": "code",
   "execution_count": 24,
   "metadata": {},
   "outputs": [],
   "source": [
    "#lemmatization\n",
    "\n",
    "clean_articles = [' '.join([token.lemma_ for token in nlp(x)]) for x in clean_articles]\n",
    "\n",
    "#remove stopwords\n",
    "\n",
    "clean_articles = [' '.join([w for w in x.split() if nlp.vocab[w].is_stop==False]) for x in clean_articles]"
   ]
  },
  {
   "cell_type": "code",
   "execution_count": 25,
   "metadata": {},
   "outputs": [
    {
     "data": {
      "text/plain": [
       "'holme hit hamstre injury kelly holme force weekend european indoor athletic championship pick hamstre injury train double olympic champion disappointed force withdraw hardly walk moment win able run week fit best holme intensive treatment south africa year old cautious start season look -PRON- good -PRON- storm title birmingham grand prix day ago race progress training holme reveal -PRON- decide compete european indoor -PRON- plan wreck weekend saturday night pull -PRON- hamstring run bend -PRON- final night holme feel massive spasm -PRON- left leg -PRON- hamstring blow doctor -PRON- -PRON- -PRON- frustrating miss madrid know great shape holme advise -PRON- coach margot jenning rush training -PRON- unlikely -PRON- compete summer helen clitheroe madrid british competitor woman representative'"
      ]
     },
     "execution_count": 25,
     "metadata": {},
     "output_type": "execute_result"
    }
   ],
   "source": [
    "clean_articles[54]"
   ]
  },
  {
   "cell_type": "code",
   "execution_count": 26,
   "metadata": {},
   "outputs": [
    {
     "data": {
      "image/png": "[encoded data removed]",
      "text/plain": [
       "<Figure size 1440x360 with 1 Axes>"
      ]
     },
     "metadata": {
      "needs_background": "light"
     },
     "output_type": "display_data"
    }
   ],
   "source": [
    "freq_words(clean_articles)"
   ]
  },
  {
   "cell_type": "markdown",
   "metadata": {},
   "source": [
    "There are many pronouns replaced with a tag 'PRON', this is a technical issue with Spacy. We need to manually remove this tag"
   ]
  },
  {
   "cell_type": "code",
   "execution_count": 27,
   "metadata": {},
   "outputs": [],
   "source": [
    "# remove -PRON- tags\n",
    "clean_articles = [re.sub('-PRON-','',i) for i in clean_articles]"
   ]
  },
  {
   "cell_type": "code",
   "execution_count": 28,
   "metadata": {},
   "outputs": [
    {
     "data": {
      "image/png": "[encoded data removed]",
      "text/plain": [
       "<Figure size 1440x360 with 1 Axes>"
      ]
     },
     "metadata": {
      "needs_background": "light"
     },
     "output_type": "display_data"
    }
   ],
   "source": [
    "freq_words(clean_articles)"
   ]
  },
  {
   "cell_type": "markdown",
   "metadata": {},
   "source": [
    "### Categorization using Topic Modelling using LSA"
   ]
  },
  {
   "cell_type": "code",
   "execution_count": 29,
   "metadata": {},
   "outputs": [],
   "source": [
    "# Step1: Create a Document Term Matrix (Rows X Columns = Documents X Unique Words)\n",
    "\n",
    "def get_words(x):\n",
    "    text = ' '.join([text for text in x])\n",
    "    return set(text.split())"
   ]
  },
  {
   "cell_type": "code",
   "execution_count": 30,
   "metadata": {},
   "outputs": [
    {
     "data": {
      "text/plain": [
       "7583"
      ]
     },
     "execution_count": 30,
     "metadata": {},
     "output_type": "execute_result"
    }
   ],
   "source": [
    "unique_words = get_words(clean_articles)\n",
    "len(unique_words)"
   ]
  },
  {
   "cell_type": "markdown",
   "metadata": {},
   "source": [
    "Rows X Columns = 471 x 7583"
   ]
  },
  {
   "cell_type": "code",
   "execution_count": 31,
   "metadata": {},
   "outputs": [
    {
     "data": {
      "text/plain": [
       "(471, 7579)"
      ]
     },
     "execution_count": 31,
     "metadata": {},
     "output_type": "execute_result"
    }
   ],
   "source": [
    "from sklearn.feature_extraction.text import TfidfVectorizer\n",
    "\n",
    "vectorizer = TfidfVectorizer()\n",
    "\n",
    "X = vectorizer.fit_transform(clean_articles)\n",
    "\n",
    "X.shape"
   ]
  },
  {
   "cell_type": "markdown",
   "metadata": {},
   "source": [
    "Need to understand why it is 7579 instead of 7583"
   ]
  },
  {
   "cell_type": "code",
   "execution_count": 32,
   "metadata": {
    "scrolled": true
   },
   "outputs": [
    {
     "name": "stderr",
     "output_type": "stream",
     "text": [
      "C:\\Users\\chalampp\\AppData\\Local\\Continuum\\anaconda3\\lib\\site-packages\\ipykernel_launcher.py:3: FutureWarning: SparseDataFrame is deprecated and will be removed in a future version.\n",
      "Use a regular DataFrame whose columns are SparseArrays instead.\n",
      "\n",
      "See http://pandas.pydata.org/pandas-docs/stable/user_guide/sparse.html#migrating for more.\n",
      "\n",
      "  This is separate from the ipykernel package so we can avoid doing imports until\n",
      "C:\\Users\\chalampp\\AppData\\Local\\Continuum\\anaconda3\\lib\\site-packages\\pandas\\core\\sparse\\frame.py:257: FutureWarning: SparseSeries is deprecated and will be removed in a future version.\n",
      "Use a Series with sparse values instead.\n",
      "\n",
      "    >>> series = pd.Series(pd.SparseArray(...))\n",
      "\n",
      "See http://pandas.pydata.org/pandas-docs/stable/user_guide/sparse.html#migrating for more.\n",
      "\n",
      "  sparse_index=BlockIndex(N, blocs, blens),\n",
      "C:\\Users\\chalampp\\AppData\\Local\\Continuum\\anaconda3\\lib\\site-packages\\pandas\\core\\generic.py:4583: FutureWarning: SparseSeries is deprecated and will be removed in a future version.\n",
      "Use a Series with sparse values instead.\n",
      "\n",
      "    >>> series = pd.Series(pd.SparseArray(...))\n",
      "\n",
      "See http://pandas.pydata.org/pandas-docs/stable/user_guide/sparse.html#migrating for more.\n",
      "\n",
      "  return self._constructor(new_data).__finalize__(self)\n"
     ]
    }
   ],
   "source": [
    "# To View this matrix, need convert into sparse dataframe\n",
    "\n",
    "X_df = pd.SparseDataFrame(X,columns=vectorizer.get_feature_names(), index = range(len(clean_articles)), default_fill_value =0)"
   ]
  },
  {
   "cell_type": "code",
   "execution_count": 33,
   "metadata": {
    "scrolled": true
   },
   "outputs": [
    {
     "name": "stderr",
     "output_type": "stream",
     "text": [
      "C:\\Users\\chalampp\\AppData\\Local\\Continuum\\anaconda3\\lib\\site-packages\\pandas\\core\\sparse\\frame.py:745: FutureWarning: SparseDataFrame is deprecated and will be removed in a future version.\n",
      "Use a regular DataFrame whose columns are SparseArrays instead.\n",
      "\n",
      "See http://pandas.pydata.org/pandas-docs/stable/user_guide/sparse.html#migrating for more.\n",
      "\n",
      "  default_fill_value=self._default_fill_value,\n",
      "C:\\Users\\chalampp\\AppData\\Local\\Continuum\\anaconda3\\lib\\site-packages\\pandas\\core\\generic.py:5997: FutureWarning: SparseDataFrame is deprecated and will be removed in a future version.\n",
      "Use a regular DataFrame whose columns are SparseArrays instead.\n",
      "\n",
      "See http://pandas.pydata.org/pandas-docs/stable/user_guide/sparse.html#migrating for more.\n",
      "\n",
      "  return self._constructor(data).__finalize__(self)\n",
      "C:\\Users\\chalampp\\AppData\\Local\\Continuum\\anaconda3\\lib\\site-packages\\pandas\\core\\generic.py:392: FutureWarning: SparseDataFrame is deprecated and will be removed in a future version.\n",
      "Use a regular DataFrame whose columns are SparseArrays instead.\n",
      "\n",
      "See http://pandas.pydata.org/pandas-docs/stable/user_guide/sparse.html#migrating for more.\n",
      "\n",
      "  return cls(data, **kwargs)\n",
      "C:\\Users\\chalampp\\AppData\\Local\\Continuum\\anaconda3\\lib\\site-packages\\pandas\\core\\frame.py:3456: FutureWarning: SparseSeries is deprecated and will be removed in a future version.\n",
      "Use a Series with sparse values instead.\n",
      "\n",
      "    >>> series = pd.Series(pd.SparseArray(...))\n",
      "\n",
      "See http://pandas.pydata.org/pandas-docs/stable/user_guide/sparse.html#migrating for more.\n",
      "\n",
      "  return klass(values, index=self.index, name=items, fastpath=True)\n",
      "C:\\Users\\chalampp\\AppData\\Local\\Continuum\\anaconda3\\lib\\site-packages\\pandas\\core\\sparse\\frame.py:721: FutureWarning: SparseDataFrame is deprecated and will be removed in a future version.\n",
      "Use a regular DataFrame whose columns are SparseArrays instead.\n",
      "\n",
      "See http://pandas.pydata.org/pandas-docs/stable/user_guide/sparse.html#migrating for more.\n",
      "\n",
      "  default_fill_value=self._default_fill_value,\n"
     ]
    },
    {
     "data": {
      "text/html": [
       "<div>\n",
       "<style scoped>\n",
       "    .dataframe tbody tr th:only-of-type {\n",
       "        vertical-align: middle;\n",
       "    }\n",
       "\n",
       "    .dataframe tbody tr th {\n",
       "        vertical-align: top;\n",
       "    }\n",
       "\n",
       "    .dataframe thead th {\n",
       "        text-align: right;\n",
       "    }\n",
       "</style>\n",
       "<table border=\"1\" class=\"dataframe\">\n",
       "  <thead>\n",
       "    <tr style=\"text-align: right;\">\n",
       "      <th></th>\n",
       "      <th>aaa</th>\n",
       "      <th>aaas</th>\n",
       "      <th>aac</th>\n",
       "      <th>aakash</th>\n",
       "      <th>aaron</th>\n",
       "      <th>ab</th>\n",
       "      <th>abandon</th>\n",
       "      <th>abate</th>\n",
       "      <th>abbott</th>\n",
       "      <th>abc</th>\n",
       "      <th>...</th>\n",
       "      <th>zimbabwean</th>\n",
       "      <th>zinc</th>\n",
       "      <th>zoe</th>\n",
       "      <th>zondeki</th>\n",
       "      <th>zone</th>\n",
       "      <th>zornotza</th>\n",
       "      <th>ztl</th>\n",
       "      <th>zuluaga</th>\n",
       "      <th>zurich</th>\n",
       "      <th>zvonareva</th>\n",
       "    </tr>\n",
       "  </thead>\n",
       "  <tbody>\n",
       "    <tr>\n",
       "      <td>0</td>\n",
       "      <td>0.0</td>\n",
       "      <td>0.096478</td>\n",
       "      <td>0.0</td>\n",
       "      <td>0.0</td>\n",
       "      <td>0.0</td>\n",
       "      <td>0.0</td>\n",
       "      <td>0.0</td>\n",
       "      <td>0.0</td>\n",
       "      <td>0.0</td>\n",
       "      <td>0.0</td>\n",
       "      <td>...</td>\n",
       "      <td>0.0</td>\n",
       "      <td>0.0</td>\n",
       "      <td>0.0</td>\n",
       "      <td>0.0</td>\n",
       "      <td>0.0</td>\n",
       "      <td>0.0</td>\n",
       "      <td>0.0</td>\n",
       "      <td>0.0</td>\n",
       "      <td>0.0</td>\n",
       "      <td>0.0</td>\n",
       "    </tr>\n",
       "    <tr>\n",
       "      <td>1</td>\n",
       "      <td>0.0</td>\n",
       "      <td>0.000000</td>\n",
       "      <td>0.0</td>\n",
       "      <td>0.0</td>\n",
       "      <td>0.0</td>\n",
       "      <td>0.0</td>\n",
       "      <td>0.0</td>\n",
       "      <td>0.0</td>\n",
       "      <td>0.0</td>\n",
       "      <td>0.0</td>\n",
       "      <td>...</td>\n",
       "      <td>0.0</td>\n",
       "      <td>0.0</td>\n",
       "      <td>0.0</td>\n",
       "      <td>0.0</td>\n",
       "      <td>0.0</td>\n",
       "      <td>0.0</td>\n",
       "      <td>0.0</td>\n",
       "      <td>0.0</td>\n",
       "      <td>0.0</td>\n",
       "      <td>0.0</td>\n",
       "    </tr>\n",
       "    <tr>\n",
       "      <td>2</td>\n",
       "      <td>0.0</td>\n",
       "      <td>0.000000</td>\n",
       "      <td>0.0</td>\n",
       "      <td>0.0</td>\n",
       "      <td>0.0</td>\n",
       "      <td>0.0</td>\n",
       "      <td>0.0</td>\n",
       "      <td>0.0</td>\n",
       "      <td>0.0</td>\n",
       "      <td>0.0</td>\n",
       "      <td>...</td>\n",
       "      <td>0.0</td>\n",
       "      <td>0.0</td>\n",
       "      <td>0.0</td>\n",
       "      <td>0.0</td>\n",
       "      <td>0.0</td>\n",
       "      <td>0.0</td>\n",
       "      <td>0.0</td>\n",
       "      <td>0.0</td>\n",
       "      <td>0.0</td>\n",
       "      <td>0.0</td>\n",
       "    </tr>\n",
       "    <tr>\n",
       "      <td>3</td>\n",
       "      <td>0.0</td>\n",
       "      <td>0.000000</td>\n",
       "      <td>0.0</td>\n",
       "      <td>0.0</td>\n",
       "      <td>0.0</td>\n",
       "      <td>0.0</td>\n",
       "      <td>0.0</td>\n",
       "      <td>0.0</td>\n",
       "      <td>0.0</td>\n",
       "      <td>0.0</td>\n",
       "      <td>...</td>\n",
       "      <td>0.0</td>\n",
       "      <td>0.0</td>\n",
       "      <td>0.0</td>\n",
       "      <td>0.0</td>\n",
       "      <td>0.0</td>\n",
       "      <td>0.0</td>\n",
       "      <td>0.0</td>\n",
       "      <td>0.0</td>\n",
       "      <td>0.0</td>\n",
       "      <td>0.0</td>\n",
       "    </tr>\n",
       "    <tr>\n",
       "      <td>4</td>\n",
       "      <td>0.0</td>\n",
       "      <td>0.000000</td>\n",
       "      <td>0.0</td>\n",
       "      <td>0.0</td>\n",
       "      <td>0.0</td>\n",
       "      <td>0.0</td>\n",
       "      <td>0.0</td>\n",
       "      <td>0.0</td>\n",
       "      <td>0.0</td>\n",
       "      <td>0.0</td>\n",
       "      <td>...</td>\n",
       "      <td>0.0</td>\n",
       "      <td>0.0</td>\n",
       "      <td>0.0</td>\n",
       "      <td>0.0</td>\n",
       "      <td>0.0</td>\n",
       "      <td>0.0</td>\n",
       "      <td>0.0</td>\n",
       "      <td>0.0</td>\n",
       "      <td>0.0</td>\n",
       "      <td>0.0</td>\n",
       "    </tr>\n",
       "    <tr>\n",
       "      <td>...</td>\n",
       "      <td>...</td>\n",
       "      <td>...</td>\n",
       "      <td>...</td>\n",
       "      <td>...</td>\n",
       "      <td>...</td>\n",
       "      <td>...</td>\n",
       "      <td>...</td>\n",
       "      <td>...</td>\n",
       "      <td>...</td>\n",
       "      <td>...</td>\n",
       "      <td>...</td>\n",
       "      <td>...</td>\n",
       "      <td>...</td>\n",
       "      <td>...</td>\n",
       "      <td>...</td>\n",
       "      <td>...</td>\n",
       "      <td>...</td>\n",
       "      <td>...</td>\n",
       "      <td>...</td>\n",
       "      <td>...</td>\n",
       "      <td>...</td>\n",
       "    </tr>\n",
       "    <tr>\n",
       "      <td>466</td>\n",
       "      <td>0.0</td>\n",
       "      <td>0.000000</td>\n",
       "      <td>0.0</td>\n",
       "      <td>0.0</td>\n",
       "      <td>0.0</td>\n",
       "      <td>0.0</td>\n",
       "      <td>0.0</td>\n",
       "      <td>0.0</td>\n",
       "      <td>0.0</td>\n",
       "      <td>0.0</td>\n",
       "      <td>...</td>\n",
       "      <td>0.0</td>\n",
       "      <td>0.0</td>\n",
       "      <td>0.0</td>\n",
       "      <td>0.0</td>\n",
       "      <td>0.0</td>\n",
       "      <td>0.0</td>\n",
       "      <td>0.0</td>\n",
       "      <td>0.0</td>\n",
       "      <td>0.0</td>\n",
       "      <td>0.0</td>\n",
       "    </tr>\n",
       "    <tr>\n",
       "      <td>467</td>\n",
       "      <td>0.0</td>\n",
       "      <td>0.000000</td>\n",
       "      <td>0.0</td>\n",
       "      <td>0.0</td>\n",
       "      <td>0.0</td>\n",
       "      <td>0.0</td>\n",
       "      <td>0.0</td>\n",
       "      <td>0.0</td>\n",
       "      <td>0.0</td>\n",
       "      <td>0.0</td>\n",
       "      <td>...</td>\n",
       "      <td>0.0</td>\n",
       "      <td>0.0</td>\n",
       "      <td>0.0</td>\n",
       "      <td>0.0</td>\n",
       "      <td>0.0</td>\n",
       "      <td>0.0</td>\n",
       "      <td>0.0</td>\n",
       "      <td>0.0</td>\n",
       "      <td>0.0</td>\n",
       "      <td>0.0</td>\n",
       "    </tr>\n",
       "    <tr>\n",
       "      <td>468</td>\n",
       "      <td>0.0</td>\n",
       "      <td>0.000000</td>\n",
       "      <td>0.0</td>\n",
       "      <td>0.0</td>\n",
       "      <td>0.0</td>\n",
       "      <td>0.0</td>\n",
       "      <td>0.0</td>\n",
       "      <td>0.0</td>\n",
       "      <td>0.0</td>\n",
       "      <td>0.0</td>\n",
       "      <td>...</td>\n",
       "      <td>0.0</td>\n",
       "      <td>0.0</td>\n",
       "      <td>0.0</td>\n",
       "      <td>0.0</td>\n",
       "      <td>0.0</td>\n",
       "      <td>0.0</td>\n",
       "      <td>0.0</td>\n",
       "      <td>0.0</td>\n",
       "      <td>0.0</td>\n",
       "      <td>0.0</td>\n",
       "    </tr>\n",
       "    <tr>\n",
       "      <td>469</td>\n",
       "      <td>0.0</td>\n",
       "      <td>0.000000</td>\n",
       "      <td>0.0</td>\n",
       "      <td>0.0</td>\n",
       "      <td>0.0</td>\n",
       "      <td>0.0</td>\n",
       "      <td>0.0</td>\n",
       "      <td>0.0</td>\n",
       "      <td>0.0</td>\n",
       "      <td>0.0</td>\n",
       "      <td>...</td>\n",
       "      <td>0.0</td>\n",
       "      <td>0.0</td>\n",
       "      <td>0.0</td>\n",
       "      <td>0.0</td>\n",
       "      <td>0.0</td>\n",
       "      <td>0.0</td>\n",
       "      <td>0.0</td>\n",
       "      <td>0.0</td>\n",
       "      <td>0.0</td>\n",
       "      <td>0.0</td>\n",
       "    </tr>\n",
       "    <tr>\n",
       "      <td>470</td>\n",
       "      <td>0.0</td>\n",
       "      <td>0.000000</td>\n",
       "      <td>0.0</td>\n",
       "      <td>0.0</td>\n",
       "      <td>0.0</td>\n",
       "      <td>0.0</td>\n",
       "      <td>0.0</td>\n",
       "      <td>0.0</td>\n",
       "      <td>0.0</td>\n",
       "      <td>0.0</td>\n",
       "      <td>...</td>\n",
       "      <td>0.0</td>\n",
       "      <td>0.0</td>\n",
       "      <td>0.0</td>\n",
       "      <td>0.0</td>\n",
       "      <td>0.0</td>\n",
       "      <td>0.0</td>\n",
       "      <td>0.0</td>\n",
       "      <td>0.0</td>\n",
       "      <td>0.0</td>\n",
       "      <td>0.0</td>\n",
       "    </tr>\n",
       "  </tbody>\n",
       "</table>\n",
       "<p>471 rows × 7579 columns</p>\n",
       "</div>"
      ],
      "text/plain": [
       "     aaa      aaas  aac  aakash  aaron   ab  abandon  abate  abbott  abc  ...  \\\n",
       "0    0.0  0.096478  0.0     0.0    0.0  0.0      0.0    0.0     0.0  0.0  ...   \n",
       "1    0.0  0.000000  0.0     0.0    0.0  0.0      0.0    0.0     0.0  0.0  ...   \n",
       "2    0.0  0.000000  0.0     0.0    0.0  0.0      0.0    0.0     0.0  0.0  ...   \n",
       "3    0.0  0.000000  0.0     0.0    0.0  0.0      0.0    0.0     0.0  0.0  ...   \n",
       "4    0.0  0.000000  0.0     0.0    0.0  0.0      0.0    0.0     0.0  0.0  ...   \n",
       "..   ...       ...  ...     ...    ...  ...      ...    ...     ...  ...  ...   \n",
       "466  0.0  0.000000  0.0     0.0    0.0  0.0      0.0    0.0     0.0  0.0  ...   \n",
       "467  0.0  0.000000  0.0     0.0    0.0  0.0      0.0    0.0     0.0  0.0  ...   \n",
       "468  0.0  0.000000  0.0     0.0    0.0  0.0      0.0    0.0     0.0  0.0  ...   \n",
       "469  0.0  0.000000  0.0     0.0    0.0  0.0      0.0    0.0     0.0  0.0  ...   \n",
       "470  0.0  0.000000  0.0     0.0    0.0  0.0      0.0    0.0     0.0  0.0  ...   \n",
       "\n",
       "     zimbabwean  zinc  zoe  zondeki  zone  zornotza  ztl  zuluaga  zurich  \\\n",
       "0           0.0   0.0  0.0      0.0   0.0       0.0  0.0      0.0     0.0   \n",
       "1           0.0   0.0  0.0      0.0   0.0       0.0  0.0      0.0     0.0   \n",
       "2           0.0   0.0  0.0      0.0   0.0       0.0  0.0      0.0     0.0   \n",
       "3           0.0   0.0  0.0      0.0   0.0       0.0  0.0      0.0     0.0   \n",
       "4           0.0   0.0  0.0      0.0   0.0       0.0  0.0      0.0     0.0   \n",
       "..          ...   ...  ...      ...   ...       ...  ...      ...     ...   \n",
       "466         0.0   0.0  0.0      0.0   0.0       0.0  0.0      0.0     0.0   \n",
       "467         0.0   0.0  0.0      0.0   0.0       0.0  0.0      0.0     0.0   \n",
       "468         0.0   0.0  0.0      0.0   0.0       0.0  0.0      0.0     0.0   \n",
       "469         0.0   0.0  0.0      0.0   0.0       0.0  0.0      0.0     0.0   \n",
       "470         0.0   0.0  0.0      0.0   0.0       0.0  0.0      0.0     0.0   \n",
       "\n",
       "     zvonareva  \n",
       "0          0.0  \n",
       "1          0.0  \n",
       "2          0.0  \n",
       "3          0.0  \n",
       "4          0.0  \n",
       "..         ...  \n",
       "466        0.0  \n",
       "467        0.0  \n",
       "468        0.0  \n",
       "469        0.0  \n",
       "470        0.0  \n",
       "\n",
       "[471 rows x 7579 columns]"
      ]
     },
     "execution_count": 33,
     "metadata": {},
     "output_type": "execute_result"
    }
   ],
   "source": [
    "X_df"
   ]
  },
  {
   "cell_type": "markdown",
   "metadata": {},
   "source": [
    "Analyze the warning later, very interesting"
   ]
  },
  {
   "cell_type": "markdown",
   "metadata": {},
   "source": [
    "Now randomly check the subset of this data frame"
   ]
  },
  {
   "cell_type": "code",
   "execution_count": 34,
   "metadata": {},
   "outputs": [
    {
     "name": "stderr",
     "output_type": "stream",
     "text": [
      "C:\\Users\\chalampp\\AppData\\Local\\Continuum\\anaconda3\\lib\\site-packages\\pandas\\core\\frame.py:3456: FutureWarning: SparseSeries is deprecated and will be removed in a future version.\n",
      "Use a Series with sparse values instead.\n",
      "\n",
      "    >>> series = pd.Series(pd.SparseArray(...))\n",
      "\n",
      "See http://pandas.pydata.org/pandas-docs/stable/user_guide/sparse.html#migrating for more.\n",
      "\n",
      "  return klass(values, index=self.index, name=items, fastpath=True)\n"
     ]
    },
    {
     "data": {
      "text/html": [
       "<div>\n",
       "<style scoped>\n",
       "    .dataframe tbody tr th:only-of-type {\n",
       "        vertical-align: middle;\n",
       "    }\n",
       "\n",
       "    .dataframe tbody tr th {\n",
       "        vertical-align: top;\n",
       "    }\n",
       "\n",
       "    .dataframe thead th {\n",
       "        text-align: right;\n",
       "    }\n",
       "</style>\n",
       "<table border=\"1\" class=\"dataframe\">\n",
       "  <thead>\n",
       "    <tr style=\"text-align: right;\">\n",
       "      <th></th>\n",
       "      <th>carlo</th>\n",
       "      <th>carlos</th>\n",
       "      <th>carlsen</th>\n",
       "      <th>carolina</th>\n",
       "      <th>carr</th>\n",
       "      <th>carrier</th>\n",
       "      <th>carroll</th>\n",
       "      <th>carry</th>\n",
       "      <th>carter</th>\n",
       "      <th>cartilage</th>\n",
       "      <th>carve</th>\n",
       "      <th>carwyn</th>\n",
       "      <th>cas</th>\n",
       "      <th>case</th>\n",
       "      <th>casey</th>\n",
       "      <th>cash</th>\n",
       "      <th>casson</th>\n",
       "      <th>cast</th>\n",
       "      <th>castaignede</th>\n",
       "      <th>castigate</th>\n",
       "    </tr>\n",
       "  </thead>\n",
       "  <tbody>\n",
       "    <tr>\n",
       "      <td>0</td>\n",
       "      <td>0.0</td>\n",
       "      <td>0.0</td>\n",
       "      <td>0.0</td>\n",
       "      <td>0.000000</td>\n",
       "      <td>0.0</td>\n",
       "      <td>0.0</td>\n",
       "      <td>0.000000</td>\n",
       "      <td>0.0</td>\n",
       "      <td>0.0</td>\n",
       "      <td>0.0</td>\n",
       "      <td>0.0</td>\n",
       "      <td>0.0</td>\n",
       "      <td>0.0</td>\n",
       "      <td>0.000000</td>\n",
       "      <td>0.0</td>\n",
       "      <td>0.0</td>\n",
       "      <td>0.0</td>\n",
       "      <td>0.0</td>\n",
       "      <td>0.0</td>\n",
       "      <td>0.0</td>\n",
       "    </tr>\n",
       "    <tr>\n",
       "      <td>1</td>\n",
       "      <td>0.0</td>\n",
       "      <td>0.0</td>\n",
       "      <td>0.0</td>\n",
       "      <td>0.000000</td>\n",
       "      <td>0.0</td>\n",
       "      <td>0.0</td>\n",
       "      <td>0.000000</td>\n",
       "      <td>0.0</td>\n",
       "      <td>0.0</td>\n",
       "      <td>0.0</td>\n",
       "      <td>0.0</td>\n",
       "      <td>0.0</td>\n",
       "      <td>0.0</td>\n",
       "      <td>0.000000</td>\n",
       "      <td>0.0</td>\n",
       "      <td>0.0</td>\n",
       "      <td>0.0</td>\n",
       "      <td>0.0</td>\n",
       "      <td>0.0</td>\n",
       "      <td>0.0</td>\n",
       "    </tr>\n",
       "    <tr>\n",
       "      <td>2</td>\n",
       "      <td>0.0</td>\n",
       "      <td>0.0</td>\n",
       "      <td>0.0</td>\n",
       "      <td>0.000000</td>\n",
       "      <td>0.0</td>\n",
       "      <td>0.0</td>\n",
       "      <td>0.000000</td>\n",
       "      <td>0.0</td>\n",
       "      <td>0.0</td>\n",
       "      <td>0.0</td>\n",
       "      <td>0.0</td>\n",
       "      <td>0.0</td>\n",
       "      <td>0.0</td>\n",
       "      <td>0.000000</td>\n",
       "      <td>0.0</td>\n",
       "      <td>0.0</td>\n",
       "      <td>0.0</td>\n",
       "      <td>0.0</td>\n",
       "      <td>0.0</td>\n",
       "      <td>0.0</td>\n",
       "    </tr>\n",
       "    <tr>\n",
       "      <td>3</td>\n",
       "      <td>0.0</td>\n",
       "      <td>0.0</td>\n",
       "      <td>0.0</td>\n",
       "      <td>0.000000</td>\n",
       "      <td>0.0</td>\n",
       "      <td>0.0</td>\n",
       "      <td>0.000000</td>\n",
       "      <td>0.0</td>\n",
       "      <td>0.0</td>\n",
       "      <td>0.0</td>\n",
       "      <td>0.0</td>\n",
       "      <td>0.0</td>\n",
       "      <td>0.0</td>\n",
       "      <td>0.000000</td>\n",
       "      <td>0.0</td>\n",
       "      <td>0.0</td>\n",
       "      <td>0.0</td>\n",
       "      <td>0.0</td>\n",
       "      <td>0.0</td>\n",
       "      <td>0.0</td>\n",
       "    </tr>\n",
       "    <tr>\n",
       "      <td>4</td>\n",
       "      <td>0.0</td>\n",
       "      <td>0.0</td>\n",
       "      <td>0.0</td>\n",
       "      <td>0.105013</td>\n",
       "      <td>0.0</td>\n",
       "      <td>0.0</td>\n",
       "      <td>0.000000</td>\n",
       "      <td>0.0</td>\n",
       "      <td>0.0</td>\n",
       "      <td>0.0</td>\n",
       "      <td>0.0</td>\n",
       "      <td>0.0</td>\n",
       "      <td>0.0</td>\n",
       "      <td>0.000000</td>\n",
       "      <td>0.0</td>\n",
       "      <td>0.0</td>\n",
       "      <td>0.0</td>\n",
       "      <td>0.0</td>\n",
       "      <td>0.0</td>\n",
       "      <td>0.0</td>\n",
       "    </tr>\n",
       "    <tr>\n",
       "      <td>5</td>\n",
       "      <td>0.0</td>\n",
       "      <td>0.0</td>\n",
       "      <td>0.0</td>\n",
       "      <td>0.000000</td>\n",
       "      <td>0.0</td>\n",
       "      <td>0.0</td>\n",
       "      <td>0.000000</td>\n",
       "      <td>0.0</td>\n",
       "      <td>0.0</td>\n",
       "      <td>0.0</td>\n",
       "      <td>0.0</td>\n",
       "      <td>0.0</td>\n",
       "      <td>0.0</td>\n",
       "      <td>0.000000</td>\n",
       "      <td>0.0</td>\n",
       "      <td>0.0</td>\n",
       "      <td>0.0</td>\n",
       "      <td>0.0</td>\n",
       "      <td>0.0</td>\n",
       "      <td>0.0</td>\n",
       "    </tr>\n",
       "    <tr>\n",
       "      <td>6</td>\n",
       "      <td>0.0</td>\n",
       "      <td>0.0</td>\n",
       "      <td>0.0</td>\n",
       "      <td>0.000000</td>\n",
       "      <td>0.0</td>\n",
       "      <td>0.0</td>\n",
       "      <td>0.375388</td>\n",
       "      <td>0.0</td>\n",
       "      <td>0.0</td>\n",
       "      <td>0.0</td>\n",
       "      <td>0.0</td>\n",
       "      <td>0.0</td>\n",
       "      <td>0.0</td>\n",
       "      <td>0.000000</td>\n",
       "      <td>0.0</td>\n",
       "      <td>0.0</td>\n",
       "      <td>0.0</td>\n",
       "      <td>0.0</td>\n",
       "      <td>0.0</td>\n",
       "      <td>0.0</td>\n",
       "    </tr>\n",
       "    <tr>\n",
       "      <td>7</td>\n",
       "      <td>0.0</td>\n",
       "      <td>0.0</td>\n",
       "      <td>0.0</td>\n",
       "      <td>0.000000</td>\n",
       "      <td>0.0</td>\n",
       "      <td>0.0</td>\n",
       "      <td>0.000000</td>\n",
       "      <td>0.0</td>\n",
       "      <td>0.0</td>\n",
       "      <td>0.0</td>\n",
       "      <td>0.0</td>\n",
       "      <td>0.0</td>\n",
       "      <td>0.0</td>\n",
       "      <td>0.000000</td>\n",
       "      <td>0.0</td>\n",
       "      <td>0.0</td>\n",
       "      <td>0.0</td>\n",
       "      <td>0.0</td>\n",
       "      <td>0.0</td>\n",
       "      <td>0.0</td>\n",
       "    </tr>\n",
       "    <tr>\n",
       "      <td>8</td>\n",
       "      <td>0.0</td>\n",
       "      <td>0.0</td>\n",
       "      <td>0.0</td>\n",
       "      <td>0.000000</td>\n",
       "      <td>0.0</td>\n",
       "      <td>0.0</td>\n",
       "      <td>0.000000</td>\n",
       "      <td>0.0</td>\n",
       "      <td>0.0</td>\n",
       "      <td>0.0</td>\n",
       "      <td>0.0</td>\n",
       "      <td>0.0</td>\n",
       "      <td>0.0</td>\n",
       "      <td>0.051751</td>\n",
       "      <td>0.0</td>\n",
       "      <td>0.0</td>\n",
       "      <td>0.0</td>\n",
       "      <td>0.0</td>\n",
       "      <td>0.0</td>\n",
       "      <td>0.0</td>\n",
       "    </tr>\n",
       "    <tr>\n",
       "      <td>9</td>\n",
       "      <td>0.0</td>\n",
       "      <td>0.0</td>\n",
       "      <td>0.0</td>\n",
       "      <td>0.000000</td>\n",
       "      <td>0.0</td>\n",
       "      <td>0.0</td>\n",
       "      <td>0.000000</td>\n",
       "      <td>0.0</td>\n",
       "      <td>0.0</td>\n",
       "      <td>0.0</td>\n",
       "      <td>0.0</td>\n",
       "      <td>0.0</td>\n",
       "      <td>0.0</td>\n",
       "      <td>0.000000</td>\n",
       "      <td>0.0</td>\n",
       "      <td>0.0</td>\n",
       "      <td>0.0</td>\n",
       "      <td>0.0</td>\n",
       "      <td>0.0</td>\n",
       "      <td>0.0</td>\n",
       "    </tr>\n",
       "  </tbody>\n",
       "</table>\n",
       "</div>"
      ],
      "text/plain": [
       "   carlo  carlos  carlsen  carolina  carr  carrier   carroll  carry  carter  \\\n",
       "0    0.0     0.0      0.0  0.000000   0.0      0.0  0.000000    0.0     0.0   \n",
       "1    0.0     0.0      0.0  0.000000   0.0      0.0  0.000000    0.0     0.0   \n",
       "2    0.0     0.0      0.0  0.000000   0.0      0.0  0.000000    0.0     0.0   \n",
       "3    0.0     0.0      0.0  0.000000   0.0      0.0  0.000000    0.0     0.0   \n",
       "4    0.0     0.0      0.0  0.105013   0.0      0.0  0.000000    0.0     0.0   \n",
       "5    0.0     0.0      0.0  0.000000   0.0      0.0  0.000000    0.0     0.0   \n",
       "6    0.0     0.0      0.0  0.000000   0.0      0.0  0.375388    0.0     0.0   \n",
       "7    0.0     0.0      0.0  0.000000   0.0      0.0  0.000000    0.0     0.0   \n",
       "8    0.0     0.0      0.0  0.000000   0.0      0.0  0.000000    0.0     0.0   \n",
       "9    0.0     0.0      0.0  0.000000   0.0      0.0  0.000000    0.0     0.0   \n",
       "\n",
       "   cartilage  carve  carwyn  cas      case  casey  cash  casson  cast  \\\n",
       "0        0.0    0.0     0.0  0.0  0.000000    0.0   0.0     0.0   0.0   \n",
       "1        0.0    0.0     0.0  0.0  0.000000    0.0   0.0     0.0   0.0   \n",
       "2        0.0    0.0     0.0  0.0  0.000000    0.0   0.0     0.0   0.0   \n",
       "3        0.0    0.0     0.0  0.0  0.000000    0.0   0.0     0.0   0.0   \n",
       "4        0.0    0.0     0.0  0.0  0.000000    0.0   0.0     0.0   0.0   \n",
       "5        0.0    0.0     0.0  0.0  0.000000    0.0   0.0     0.0   0.0   \n",
       "6        0.0    0.0     0.0  0.0  0.000000    0.0   0.0     0.0   0.0   \n",
       "7        0.0    0.0     0.0  0.0  0.000000    0.0   0.0     0.0   0.0   \n",
       "8        0.0    0.0     0.0  0.0  0.051751    0.0   0.0     0.0   0.0   \n",
       "9        0.0    0.0     0.0  0.0  0.000000    0.0   0.0     0.0   0.0   \n",
       "\n",
       "   castaignede  castigate  \n",
       "0          0.0        0.0  \n",
       "1          0.0        0.0  \n",
       "2          0.0        0.0  \n",
       "3          0.0        0.0  \n",
       "4          0.0        0.0  \n",
       "5          0.0        0.0  \n",
       "6          0.0        0.0  \n",
       "7          0.0        0.0  \n",
       "8          0.0        0.0  \n",
       "9          0.0        0.0  "
      ]
     },
     "execution_count": 34,
     "metadata": {},
     "output_type": "execute_result"
    }
   ],
   "source": [
    "X_df.iloc[:10, 1000:1020]"
   ]
  },
  {
   "cell_type": "markdown",
   "metadata": {},
   "source": [
    "We can see most of the values are zero except few. This is because it is sparse matrix. There is no benefit keeping this terms and will not help in distinguishing the articles. We will keep n most important terms as features of the document term matrix."
   ]
  },
  {
   "cell_type": "code",
   "execution_count": 35,
   "metadata": {},
   "outputs": [
    {
     "data": {
      "text/plain": [
       "(471, 1000)"
      ]
     },
     "execution_count": 35,
     "metadata": {},
     "output_type": "execute_result"
    }
   ],
   "source": [
    "# Showing 1000 most important words (max_features). This is nothing but reducing the sparsity of Document Term Matrix\n",
    "\n",
    "# min_df (Minimum document frequency, it means any word that appears less than 5 times would be ignored)\n",
    "\n",
    "# max_df (Maximum document frequency, which means terms that appear more than 90% of the document would be ignored)\n",
    "# for example: Term 'player' would be appearing in each of the article which will not be useful in distinguishing the article\n",
    "# we can try different hyperparameters and see the combinations\n",
    "\n",
    "vectorizer = TfidfVectorizer()\n",
    "vectorizer = TfidfVectorizer(max_features=1000, min_df = 5, max_df = 0.9)\n",
    "\n",
    "X = vectorizer.fit_transform(clean_articles)\n",
    "\n",
    "X.shape"
   ]
  },
  {
   "cell_type": "markdown",
   "metadata": {},
   "source": [
    "This is exactly matching what they have shown."
   ]
  },
  {
   "cell_type": "markdown",
   "metadata": {},
   "source": [
    "Important Requirement for LSA: All the documents should be represented by same vectors and size of the vector is the number of the topics"
   ]
  },
  {
   "cell_type": "markdown",
   "metadata": {},
   "source": [
    "The idea is segregate the categorize articles into handful of topics or categories say 4 or 5. Therefore we need to reduce the dimensionality of Document Term Matrix from 1000 to much smaller number(desired topics). If we want to convert into K topics then this matrix would be 471 X K "
   ]
  },
  {
   "cell_type": "markdown",
   "metadata": {},
   "source": [
    "Refer to a screen shot in the notes for Dimensionality Reduction."
   ]
  },
  {
   "cell_type": "markdown",
   "metadata": {},
   "source": []
  },
  {
   "cell_type": "markdown",
   "metadata": {},
   "source": [
    "SVD will give three matrix after decomposition. \n",
    "\n",
    "1. Document Topic Matrix (Uk): The matrix contain vectors for every articles, the length of the vector is k   \n",
    "   which is the number of topics specified by the user.\n",
    "\n",
    "2. Topic Term Matrix (VkT) - This matrix contain 1000 terms which were used to prepare Document Term Matrix. n is the number of    terms and k is the number of topics.\n",
    "\n",
    "3. Topic Vs Topic Matrix (S) - This matrix won't be used for this analysis and can be ignored this."
   ]
  },
  {
   "cell_type": "code",
   "execution_count": 36,
   "metadata": {},
   "outputs": [],
   "source": [
    "from sklearn.decomposition import TruncatedSVD\n",
    "\n",
    "svd_model = TruncatedSVD(n_components=4, random_state=12, n_iter = 100)"
   ]
  },
  {
   "cell_type": "code",
   "execution_count": 37,
   "metadata": {},
   "outputs": [
    {
     "data": {
      "text/plain": [
       "TruncatedSVD(algorithm='randomized', n_components=4, n_iter=100,\n",
       "             random_state=12, tol=0.0)"
      ]
     },
     "execution_count": 37,
     "metadata": {},
     "output_type": "execute_result"
    }
   ],
   "source": [
    "svd_model.fit(X)"
   ]
  },
  {
   "cell_type": "markdown",
   "metadata": {},
   "source": [
    "How to find how good our model is? Easiest way is by printing the most important words corresponding to each topic."
   ]
  },
  {
   "cell_type": "markdown",
   "metadata": {},
   "source": [
    "Suppose, if our model shows the below terms in one topic then it is with good performance.\n",
    "\n",
    "    goal    midfilder  striker   attacker   corner   goalkeeper\n",
    "    \n",
    "Similarly, if you get mix terms like below in one topic, then our model is not performing well\n",
    "\n",
    "    run    ball   racket   pedal"
   ]
  },
  {
   "cell_type": "code",
   "execution_count": 39,
   "metadata": {},
   "outputs": [
    {
     "name": "stdout",
     "output_type": "stream",
     "text": [
      "Topic 0: \n",
      "['england', 'win', 'play', 'year', 'game', 'test', 'match', 'world', 'good', 'wale', 'player', 'team', 'ireland', 'final', 'time', 'day', 'new', 'cricket', 'rugby', 'second', 'come', 'france', 'set', 'open', 'run', 'injury', 'coach', 'cup', 'think', 'half', 'tour', 'australia', 'south', 'nation', 'start', 'series', 'international', 'victory', 'champion', 'beat', 'try', 'week', 'captain', 'great', 'william', 'season', 'robinson', 'ball', 'lose', 've']\n",
      "\n",
      "\n",
      "Topic 1: \n",
      "['olympic', 'indoor', 'champion', 'win', 'seed', 'world', 'title', 'race', 'open', 'final', 'european', 'set', 'year', 'holme', 'roddick', 'woman', 'event', 'championship', 'athen', 'compete', 'record', 'round', 'britain', 'athlete', 'birmingham', 'federer', 'hewitt', 'break', 'gold', 'beat', 'jump', 'grand', 'american', 'british', 'medal', 'agassi', 'australian', 'athletic', 'second', 'davenport', 'marathon', 'double', 'madrid', 'russian', 'tennis', 'cross', 'old', 'francis', 'henman', 'safin']\n",
      "\n",
      "\n",
      "Topic 2: \n",
      "['wale', 'england', 'ireland', 'robinson', 'france', 'nation', 'rugby', 'half', 'scotland', 'italy', 'william', 'kick', 'try', 'coach', 'leicester', 'penalty', 'bath', 'game', 'wilkinson', 'centre', 'hodgson', 'henson', 'player', 'ruddock', 'lion', 'gara', 'driscoll', 'stade', 'injury', 'thomas', 'irish', 'wasps', 'laporte', 'andy', 'scrum', 'cardiff', 'wing', 'barkley', 'welsh', 'referee', 'slam', 'lewsey', 'fly', 'flanker', 'cueto', 'twickenham', 'sale', 'woodward', 'gloucester', 'replacement']\n",
      "\n",
      "\n",
      "Topic 3: \n",
      "['kenteris', 'olympic', 'greek', 'thanou', 'iaaf', 'drug', 'athen', 'athletic', 'athlete', 'charge', 'ban', 'sprinter', 'england', 'dope', 'test', 'miss', 'tribunal', 'wale', 'holme', 'robinson', 'federation', 'decision', 'ireland', 'race', 'indoor', 'trial', 'rugby', 'european', 'medal', 'sport', 'evidence', 'suspend', 'marathon', 'conte', 'nation', 'kosta', 'coach', 'pair', 'gold', 'radcliffe', 'birmingham', 'collin', 'balco', 'training', 'compete', 'case', 'committee', 'appeal', 'record', 'hearing']\n",
      "\n",
      "\n"
     ]
    }
   ],
   "source": [
    "terms = vectorizer.get_feature_names()\n",
    "\n",
    "for i, comp in enumerate(svd_model.components_):\n",
    "    terms_comp = zip(terms,comp)\n",
    "    sorted_terms = sorted(terms_comp, key = lambda x:x[1], reverse = True)[:50]\n",
    "    \n",
    "    print(\"Topic \"+str(i)+\": \")\n",
    "    topics =[]\n",
    "    for t in sorted_terms:\n",
    "        topics.append(t[0])\n",
    "    \n",
    "    print(topics)\n",
    "    print('\\n')"
   ]
  },
  {
   "cell_type": "markdown",
   "metadata": {},
   "source": [
    "The above is topic wise top 50 words."
   ]
  },
  {
   "cell_type": "code",
   "execution_count": 40,
   "metadata": {},
   "outputs": [
    {
     "data": {
      "text/plain": [
       "(471, 4)"
      ]
     },
     "execution_count": 40,
     "metadata": {},
     "output_type": "execute_result"
    }
   ],
   "source": [
    "# Final stage - Article Categorization\n",
    "\n",
    "# Step 1:  Article Topic Matrix (This is already there as a part of Singular Value decomposition Uk)\n",
    "\n",
    "lsa_topic_matrix = svd_model.transform(X)\n",
    "lsa_topic_matrix.shape"
   ]
  },
  {
   "cell_type": "code",
   "execution_count": 41,
   "metadata": {},
   "outputs": [
    {
     "data": {
      "text/plain": [
       "array([[ 0.28387325,  0.26412487, -0.10315764,  0.09860201],\n",
       "       [ 0.2234021 ,  0.07341423,  0.04809807,  0.11615841],\n",
       "       [ 0.26250414,  0.24808623, -0.09566706,  0.04876066],\n",
       "       ...,\n",
       "       [ 0.19991017,  0.18623788, -0.03214824, -0.30160278],\n",
       "       [ 0.37112345,  0.2381891 , -0.03753487, -0.3529605 ],\n",
       "       [ 0.25623116,  0.18595445, -0.03474909, -0.28889292]])"
      ]
     },
     "execution_count": 41,
     "metadata": {},
     "output_type": "execute_result"
    }
   ],
   "source": [
    "lsa_topic_matrix"
   ]
  },
  {
   "cell_type": "markdown",
   "metadata": {},
   "source": [
    "Most dominent topic for first Article would be"
   ]
  },
  {
   "cell_type": "code",
   "execution_count": 43,
   "metadata": {},
   "outputs": [
    {
     "data": {
      "text/plain": [
       "array([ 0.28387325,  0.26412487, -0.10315764,  0.09860201])"
      ]
     },
     "execution_count": 43,
     "metadata": {},
     "output_type": "execute_result"
    }
   ],
   "source": [
    "lsa_topic_matrix[0] #The first topic, it has the maximum value"
   ]
  },
  {
   "cell_type": "markdown",
   "metadata": {},
   "source": [
    "Let us try to find the topic of some article."
   ]
  },
  {
   "cell_type": "code",
   "execution_count": 44,
   "metadata": {},
   "outputs": [
    {
     "data": {
      "text/plain": [
       "'Collins to compete in Birmingham\\n\\nWorld and Commonwealth 100m champion Kim Collins will compete in the 60m at the Norwich Union Grand Prix in Birmingham on 18 February.\\n\\nThe St Kitts and Nevis star joins British Olympic relay gold medallists Jason Gardener and Mark Lewis-Francis. Sydney Olympic 100m champion and world indoor record holder Maurice Greene and Athens Olympic 100m silver medallist Francis Obikwelu will also take part. Collins ran in Birmingham at the 2003 World Indoor Championships. \"I\\'m looking forward to competing against such a strong field,\" he said. \"I got a great reception form the crowd at the NIA when I won my 60m world indoor silver medal in 2003 and it will be really exciting to return to this venue.\" The world champion says he\\'s in good shape but he isn\\'t underestimating the home competition. \"Jason Gardener and Mark Lewis-Francis are Olympic gold medallists now and I\\'m sure they\\'ll be aiming to win in front of their home supporters. \"I\\'m looking forward to competing against Britain\\'s best sprinters and I\\'m sure the 60 metres will be one of the most exciting races of the evening.\" Collins was sixth in the Olympic final in Athens but is hoping for a better result at the World Championships in Finland this summer. \"This will be a big year for me and I plan to defend my 100m world title in Helsinki in August. Before then I want to perform well over 60m indoors and start my year in winning form.\"\\n'"
      ]
     },
     "execution_count": 44,
     "metadata": {},
     "output_type": "execute_result"
    }
   ],
   "source": [
    "articles[9] # This belongs to Athletics. Hence it should belong to Topic 1"
   ]
  },
  {
   "cell_type": "code",
   "execution_count": 45,
   "metadata": {},
   "outputs": [
    {
     "data": {
      "text/plain": [
       "1"
      ]
     },
     "execution_count": 45,
     "metadata": {},
     "output_type": "execute_result"
    }
   ],
   "source": [
    "np.argmax(lsa_topic_matrix[9]) # This gives the topic number"
   ]
  },
  {
   "cell_type": "code",
   "execution_count": 47,
   "metadata": {},
   "outputs": [
    {
     "data": {
      "text/plain": [
       "0"
      ]
     },
     "execution_count": 47,
     "metadata": {},
     "output_type": "execute_result"
    }
   ],
   "source": [
    "np.argmax(lsa_topic_matrix[10]) # Cricket"
   ]
  },
  {
   "cell_type": "markdown",
   "metadata": {},
   "source": [
    "Assignment: Apply LDA Algorithm and work on Categorization and compare the result with LSA"
   ]
  }
 ],
 "metadata": {
  "kernelspec": {
   "display_name": "Python 3",
   "language": "python",
   "name": "python3"
  },
  "language_info": {
   "codemirror_mode": {
    "name": "ipython",
    "version": 3
   },
   "file_extension": ".py",
   "mimetype": "text/x-python",
   "name": "python",
   "nbconvert_exporter": "python",
   "pygments_lexer": "ipython3",
   "version": "3.5.5"
  }
 },
 "nbformat": 4,
 "nbformat_minor": 2
}
