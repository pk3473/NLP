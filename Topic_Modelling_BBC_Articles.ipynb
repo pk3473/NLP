{
 "cells": [
  {
   "cell_type": "markdown",
   "metadata": {},
   "source": [
    "# Topic Modelling on BBC Sports News Articles\n",
    "\n",
    "The data is available [link](http://mlg.ucd.ie/files/datasets/bbcsport-fulltext.zip)."
   ]
  },
  {
   "cell_type": "code",
   "execution_count": 64,
   "metadata": {},
   "outputs": [],
   "source": [
    "# Import required libraries\n",
    "# Read data\n",
    "# Explore and pre-process text\n",
    "# Topic Modeling"
   ]
  },
  {
   "cell_type": "markdown",
   "metadata": {},
   "source": [
    "## Import required libraries"
   ]
  },
  {
   "cell_type": "code",
   "execution_count": 65,
   "metadata": {},
   "outputs": [],
   "source": [
    "import numpy as np\n",
    "import pandas as pd\n",
    "import nltk\n",
    "import spacy\n",
    "import re\n",
    "import os\n",
    "import matplotlib.pyplot as plt\n",
    "import seaborn as sns\n",
    "\n",
    "pd.set_option(\"display.max_colwidth\", 200)"
   ]
  },
  {
   "cell_type": "markdown",
   "metadata": {},
   "source": [
    "## Read Data"
   ]
  },
  {
   "cell_type": "code",
   "execution_count": 66,
   "metadata": {},
   "outputs": [],
   "source": [
    "# open the file using open() function\n",
    "file = open('data/bbc_sports_articles/003.txt', mode='rt', encoding='utf-8')\n",
    "\n",
    "# read content using .read() function\n",
    "text = file.read()\n",
    "\n",
    "# close the file using .close() function\n",
    "file.close()"
   ]
  },
  {
   "cell_type": "code",
   "execution_count": 67,
   "metadata": {},
   "outputs": [
    {
     "data": {
      "text/plain": [
       "'Greene sets sights on world title\\n\\nMaurice Greene aims to wipe out the pain of losing his Olympic 100m title in Athens by winning a fourth World Championship crown this summer.\\n\\nHe had to settle for bronze in Greece behind fellow American Justin Gatlin and Francis Obikwelu of Portugal. \"It really hurts to look at that medal. It was my mistake. I lost because of the things I did,\" said Greene, who races in Birmingham on Friday. \"It\\'s never going to happen again. My goal - I\\'m going to win the worlds.\" Greene crossed the line just 0.02 seconds behind Gatlin, who won in 9.87 seconds in one of the closest and fastest sprints of all time. But Greene believes he lost the race and his title in the semi-finals. \"In my semi-final race, I should have won the race but I was conserving energy. \"That\\'s when Francis Obikwelu came up and I took third because I didn\\'t know he was there. \"I believe that\\'s what put me in lane seven in the final and, while I was in lane seven, I couldn\\'t feel anything in the race.\\n\\n\"I just felt like I was running all alone. \"I believe if I was in the middle of the race I would have been able to react to people that came ahead of me.\" Greene was also denied Olympic gold in the 4x100m men\\'s relay when he could not catch Britain\\'s Mark Lewis-Francis on the final leg. The Kansas star is set to go head-to-head with Lewis-Francis again at Friday\\'s Norwich Union Grand Prix. The pair contest the 60m, the distance over which Greene currently holds the world record of 6.39 seconds. He then has another indoor meeting in France before resuming training for the outdoor season and the task of recapturing his world title in Helsinki in August. Greene believes Gatlin will again prove the biggest threat to his ambitions in Finland. But he also admits he faces more than one rival for the world crown. \"There\\'s always someone else coming. I think when I was coming up I would say there was me and Ato (Boldon) in the young crowd,\" Greene said. \"Now you\\'ve got about five or six young guys coming up at the same time.\"\\n'"
      ]
     },
     "execution_count": 67,
     "metadata": {},
     "output_type": "execute_result"
    }
   ],
   "source": [
    "text"
   ]
  },
  {
   "cell_type": "markdown",
   "metadata": {},
   "source": [
    "---"
   ]
  },
  {
   "cell_type": "code",
   "execution_count": 68,
   "metadata": {},
   "outputs": [],
   "source": [
    "# read file names\n",
    "file_names = os.listdir(\"data/bbc_sports_articles\")"
   ]
  },
  {
   "cell_type": "code",
   "execution_count": 69,
   "metadata": {},
   "outputs": [
    {
     "data": {
      "text/plain": [
       "['156.txt',\n",
       " '167.txt',\n",
       " '276.txt',\n",
       " '168.txt',\n",
       " '023.txt',\n",
       " '348.txt',\n",
       " '387.txt',\n",
       " '247.txt',\n",
       " '107.txt',\n",
       " '081.txt']"
      ]
     },
     "execution_count": 69,
     "metadata": {},
     "output_type": "execute_result"
    }
   ],
   "source": [
    "# print first 10 file names\n",
    "file_names[:10]"
   ]
  },
  {
   "cell_type": "markdown",
   "metadata": {},
   "source": [
    "---\n",
    "Let's read all the articles using a fol loop."
   ]
  },
  {
   "cell_type": "code",
   "execution_count": 70,
   "metadata": {},
   "outputs": [],
   "source": [
    "# empty list\n",
    "articles = []\n",
    "\n",
    "# read all articles\n",
    "for f in file_names:\n",
    "    # open the file\n",
    "    file = open('data/bbc_sports_articles/'+f, mode='rt', encoding='utf-8')\n",
    "    text = file.read()\n",
    "    file.close()\n",
    "    \n",
    "    articles.append(text)"
   ]
  },
  {
   "cell_type": "code",
   "execution_count": 71,
   "metadata": {},
   "outputs": [
    {
     "data": {
      "text/plain": [
       "471"
      ]
     },
     "execution_count": 71,
     "metadata": {},
     "output_type": "execute_result"
    }
   ],
   "source": [
    "len(articles)"
   ]
  },
  {
   "cell_type": "markdown",
   "metadata": {},
   "source": [
    "<br>\n",
    "\n",
    "## Explore and Pre-process the Text\n",
    "\n",
    "Let's try to understand the text data we have in the BBC Sports News Articles. This exploration will determine the subsequent sequence of actions to be taken on the text data.\n",
    "\n",
    "First of all, we will randomly select some articles and inspect them."
   ]
  },
  {
   "cell_type": "code",
   "execution_count": 72,
   "metadata": {},
   "outputs": [
    {
     "data": {
      "text/plain": [
       "\"Aussies tighten grip\\n\\nFirst Test, Perth, day three: Australia 381 & 361-5 dec; Pakistan 179 & 18-1 (close)\\n\\nThe home side declared their second innings on 361-5, a lead of 563, and Pakistan were 18-1 at the close. Martyn made no mistake after Ricky Ponting was stumped for 98 and Justin Langer bowled by Abdul Razzaq for 97. Left to survive six overs before the close, Pakistan lost Imran Farhat, who was lbw to Glenn McGrath for one. Pakistan's cause was not helped by the absence of skipper Inzamam-ul-Haq and paceman Shoaib Akhtar for most of the afternoon. Inzamam stayed in the dressing room suffering from a stomach upset, while Shoaib hurt his left shoulder while trying to make a diving save in the field.\\n\\nHe had taken the only wicket to fall during the morning, bowling Matthew Hayden for 10 with an inswinger as Australia advanced their score from 15-0 to 110-1. Langer's fifty arrived off 84 balls and he struck 14 fours as he and Ponting shared a second wicket stand of 163. It looked odds on that he would become the first man ever to make a hundred in each innings of a Test at the Waca when Razzaq found a way through as he attempted to drive.\\n\\nBut Langer, who made 191 in the first innings, is now the highest run scorer in Tests in 2004 with 1,426, including five centuries. Ponting was on 92 at the tea interval and well set to reach three figures for the first time this year. He was denied, however, when he missed an attempted sweep of Danish Kaneria and keeper Kamran Akmal whipped off the bails - a dismissal confirmed by the TV umpire. Darren Lehmann was bowled by Kaneria for five, but Michael Clarke joined Martyn in a stand of 79 for the fifth wicket before he was caught by the revived Inzamam off Mohammad Sami for 27. Martyn reached three figures in the next over, a 121-ball knock featuring 11 boundaries, and Ponting immediately made the declaration. The Pakistan openers walked to the middle under intense pressure and it proved too much for Farhat, who shouldered arms to an inswinging delivery from McGrath. But partner Salman Butt survived to reach stumps on eight not out and Younis Khan drove the day's penultimate delivery from Jason Gillespie through extra cover for four to finish on seven.\\n\\nRicky Ponting (c), Justin Langer, Matthew Hayden, Damien Martyn, Darren Lehmann, Michael Clarke, Adam Gilchrist, Shane Warne, Jason Gillespie, Michael Kasprowicz, Glenn McGrath. 12th man: Brett Lee.\\n\\nInzamam-ul-Haq, Imran Farhat, Salman Butt, Younis Khan, Yousuf Youhanna, Abdul Razzaq, Kamran Akmal, Shoaib Akhtar, Danish Kaneria, Mohammad Sami, Mohammad Khalil. 12th man: Yasir Hameed.\\n\""
      ]
     },
     "execution_count": 72,
     "metadata": {},
     "output_type": "execute_result"
    }
   ],
   "source": [
    "articles[54]"
   ]
  },
  {
   "cell_type": "markdown",
   "metadata": {},
   "source": [
    "---"
   ]
  },
  {
   "cell_type": "markdown",
   "metadata": {},
   "source": [
    "There are lots __(\\\\')__ and __(\\n)__ which are undesirable. Let's go ahead and get rid of them.\n",
    "\n",
    "### 1. Text Cleaning"
   ]
  },
  {
   "cell_type": "code",
   "execution_count": 73,
   "metadata": {},
   "outputs": [],
   "source": [
    "clean_articles = []\n",
    "\n",
    "# clean the articles and store it in the list clean_articles\n",
    "for i in articles:\n",
    "    clean_articles.append(i.replace(\"\\n\",\" \").replace(\"\\'\", \" \"))"
   ]
  },
  {
   "cell_type": "code",
   "execution_count": 74,
   "metadata": {},
   "outputs": [
    {
     "data": {
      "text/plain": [
       "'Aussies tighten grip  First Test, Perth, day three: Australia 381 & 361-5 dec; Pakistan 179 & 18-1 (close)  The home side declared their second innings on 361-5, a lead of 563, and Pakistan were 18-1 at the close. Martyn made no mistake after Ricky Ponting was stumped for 98 and Justin Langer bowled by Abdul Razzaq for 97. Left to survive six overs before the close, Pakistan lost Imran Farhat, who was lbw to Glenn McGrath for one. Pakistan s cause was not helped by the absence of skipper Inzamam-ul-Haq and paceman Shoaib Akhtar for most of the afternoon. Inzamam stayed in the dressing room suffering from a stomach upset, while Shoaib hurt his left shoulder while trying to make a diving save in the field.  He had taken the only wicket to fall during the morning, bowling Matthew Hayden for 10 with an inswinger as Australia advanced their score from 15-0 to 110-1. Langer s fifty arrived off 84 balls and he struck 14 fours as he and Ponting shared a second wicket stand of 163. It looked odds on that he would become the first man ever to make a hundred in each innings of a Test at the Waca when Razzaq found a way through as he attempted to drive.  But Langer, who made 191 in the first innings, is now the highest run scorer in Tests in 2004 with 1,426, including five centuries. Ponting was on 92 at the tea interval and well set to reach three figures for the first time this year. He was denied, however, when he missed an attempted sweep of Danish Kaneria and keeper Kamran Akmal whipped off the bails - a dismissal confirmed by the TV umpire. Darren Lehmann was bowled by Kaneria for five, but Michael Clarke joined Martyn in a stand of 79 for the fifth wicket before he was caught by the revived Inzamam off Mohammad Sami for 27. Martyn reached three figures in the next over, a 121-ball knock featuring 11 boundaries, and Ponting immediately made the declaration. The Pakistan openers walked to the middle under intense pressure and it proved too much for Farhat, who shouldered arms to an inswinging delivery from McGrath. But partner Salman Butt survived to reach stumps on eight not out and Younis Khan drove the day s penultimate delivery from Jason Gillespie through extra cover for four to finish on seven.  Ricky Ponting (c), Justin Langer, Matthew Hayden, Damien Martyn, Darren Lehmann, Michael Clarke, Adam Gilchrist, Shane Warne, Jason Gillespie, Michael Kasprowicz, Glenn McGrath. 12th man: Brett Lee.  Inzamam-ul-Haq, Imran Farhat, Salman Butt, Younis Khan, Yousuf Youhanna, Abdul Razzaq, Kamran Akmal, Shoaib Akhtar, Danish Kaneria, Mohammad Sami, Mohammad Khalil. 12th man: Yasir Hameed. '"
      ]
     },
     "execution_count": 74,
     "metadata": {},
     "output_type": "execute_result"
    }
   ],
   "source": [
    "clean_articles[54]"
   ]
  },
  {
   "cell_type": "markdown",
   "metadata": {},
   "source": [
    "---"
   ]
  },
  {
   "cell_type": "markdown",
   "metadata": {},
   "source": [
    "Let's remove numbers, punctuation, and special characters (&!>$@$...etc)."
   ]
  },
  {
   "cell_type": "code",
   "execution_count": 75,
   "metadata": {},
   "outputs": [],
   "source": [
    "# strip everthing except alphabets from the text\n",
    "clean_articles = [re.sub(\"[^a-zA-Z]\",\" \",x) for x in clean_articles]"
   ]
  },
  {
   "cell_type": "code",
   "execution_count": 76,
   "metadata": {},
   "outputs": [
    {
     "data": {
      "text/plain": [
       "'Aussies tighten grip  First Test  Perth  day three  Australia             dec  Pakistan             close   The home side declared their second innings on        a lead of      and Pakistan were      at the close  Martyn made no mistake after Ricky Ponting was stumped for    and Justin Langer bowled by Abdul Razzaq for     Left to survive six overs before the close  Pakistan lost Imran Farhat  who was lbw to Glenn McGrath for one  Pakistan s cause was not helped by the absence of skipper Inzamam ul Haq and paceman Shoaib Akhtar for most of the afternoon  Inzamam stayed in the dressing room suffering from a stomach upset  while Shoaib hurt his left shoulder while trying to make a diving save in the field   He had taken the only wicket to fall during the morning  bowling Matthew Hayden for    with an inswinger as Australia advanced their score from      to        Langer s fifty arrived off    balls and he struck    fours as he and Ponting shared a second wicket stand of      It looked odds on that he would become the first man ever to make a hundred in each innings of a Test at the Waca when Razzaq found a way through as he attempted to drive   But Langer  who made     in the first innings  is now the highest run scorer in Tests in      with        including five centuries  Ponting was on    at the tea interval and well set to reach three figures for the first time this year  He was denied  however  when he missed an attempted sweep of Danish Kaneria and keeper Kamran Akmal whipped off the bails   a dismissal confirmed by the TV umpire  Darren Lehmann was bowled by Kaneria for five  but Michael Clarke joined Martyn in a stand of    for the fifth wicket before he was caught by the revived Inzamam off Mohammad Sami for     Martyn reached three figures in the next over  a     ball knock featuring    boundaries  and Ponting immediately made the declaration  The Pakistan openers walked to the middle under intense pressure and it proved too much for Farhat  who shouldered arms to an inswinging delivery from McGrath  But partner Salman Butt survived to reach stumps on eight not out and Younis Khan drove the day s penultimate delivery from Jason Gillespie through extra cover for four to finish on seven   Ricky Ponting  c   Justin Langer  Matthew Hayden  Damien Martyn  Darren Lehmann  Michael Clarke  Adam Gilchrist  Shane Warne  Jason Gillespie  Michael Kasprowicz  Glenn McGrath    th man  Brett Lee   Inzamam ul Haq  Imran Farhat  Salman Butt  Younis Khan  Yousuf Youhanna  Abdul Razzaq  Kamran Akmal  Shoaib Akhtar  Danish Kaneria  Mohammad Sami  Mohammad Khalil    th man  Yasir Hameed  '"
      ]
     },
     "execution_count": 76,
     "metadata": {},
     "output_type": "execute_result"
    }
   ],
   "source": [
    "clean_articles[54]"
   ]
  },
  {
   "cell_type": "code",
   "execution_count": 77,
   "metadata": {},
   "outputs": [],
   "source": [
    "# remove single character terms\n",
    "clean_articles = [' '.join([w for w in x.split() if len(w)>1]) for x in clean_articles]"
   ]
  },
  {
   "cell_type": "code",
   "execution_count": 78,
   "metadata": {},
   "outputs": [
    {
     "data": {
      "text/plain": [
       "'Aussies tighten grip First Test Perth day three Australia dec Pakistan close The home side declared their second innings on lead of and Pakistan were at the close Martyn made no mistake after Ricky Ponting was stumped for and Justin Langer bowled by Abdul Razzaq for Left to survive six overs before the close Pakistan lost Imran Farhat who was lbw to Glenn McGrath for one Pakistan cause was not helped by the absence of skipper Inzamam ul Haq and paceman Shoaib Akhtar for most of the afternoon Inzamam stayed in the dressing room suffering from stomach upset while Shoaib hurt his left shoulder while trying to make diving save in the field He had taken the only wicket to fall during the morning bowling Matthew Hayden for with an inswinger as Australia advanced their score from to Langer fifty arrived off balls and he struck fours as he and Ponting shared second wicket stand of It looked odds on that he would become the first man ever to make hundred in each innings of Test at the Waca when Razzaq found way through as he attempted to drive But Langer who made in the first innings is now the highest run scorer in Tests in with including five centuries Ponting was on at the tea interval and well set to reach three figures for the first time this year He was denied however when he missed an attempted sweep of Danish Kaneria and keeper Kamran Akmal whipped off the bails dismissal confirmed by the TV umpire Darren Lehmann was bowled by Kaneria for five but Michael Clarke joined Martyn in stand of for the fifth wicket before he was caught by the revived Inzamam off Mohammad Sami for Martyn reached three figures in the next over ball knock featuring boundaries and Ponting immediately made the declaration The Pakistan openers walked to the middle under intense pressure and it proved too much for Farhat who shouldered arms to an inswinging delivery from McGrath But partner Salman Butt survived to reach stumps on eight not out and Younis Khan drove the day penultimate delivery from Jason Gillespie through extra cover for four to finish on seven Ricky Ponting Justin Langer Matthew Hayden Damien Martyn Darren Lehmann Michael Clarke Adam Gilchrist Shane Warne Jason Gillespie Michael Kasprowicz Glenn McGrath th man Brett Lee Inzamam ul Haq Imran Farhat Salman Butt Younis Khan Yousuf Youhanna Abdul Razzaq Kamran Akmal Shoaib Akhtar Danish Kaneria Mohammad Sami Mohammad Khalil th man Yasir Hameed'"
      ]
     },
     "execution_count": 78,
     "metadata": {},
     "output_type": "execute_result"
    }
   ],
   "source": [
    "clean_articles[54]"
   ]
  },
  {
   "cell_type": "markdown",
   "metadata": {},
   "source": [
    "---\n",
    "We have cleaned our text to a great extent. However, we should now make uppercase characters to lowercase or else it would result in an inflated vocabulary of unique words.\n",
    "\n",
    "For example, the terms __'But'__ and __'but'__ would be considered as 2 separate words."
   ]
  },
  {
   "cell_type": "code",
   "execution_count": 79,
   "metadata": {},
   "outputs": [],
   "source": [
    "clean_articles = [x.lower() for x in clean_articles]"
   ]
  },
  {
   "cell_type": "code",
   "execution_count": 80,
   "metadata": {},
   "outputs": [
    {
     "data": {
      "text/plain": [
       "'aussies tighten grip first test perth day three australia dec pakistan close the home side declared their second innings on lead of and pakistan were at the close martyn made no mistake after ricky ponting was stumped for and justin langer bowled by abdul razzaq for left to survive six overs before the close pakistan lost imran farhat who was lbw to glenn mcgrath for one pakistan cause was not helped by the absence of skipper inzamam ul haq and paceman shoaib akhtar for most of the afternoon inzamam stayed in the dressing room suffering from stomach upset while shoaib hurt his left shoulder while trying to make diving save in the field he had taken the only wicket to fall during the morning bowling matthew hayden for with an inswinger as australia advanced their score from to langer fifty arrived off balls and he struck fours as he and ponting shared second wicket stand of it looked odds on that he would become the first man ever to make hundred in each innings of test at the waca when razzaq found way through as he attempted to drive but langer who made in the first innings is now the highest run scorer in tests in with including five centuries ponting was on at the tea interval and well set to reach three figures for the first time this year he was denied however when he missed an attempted sweep of danish kaneria and keeper kamran akmal whipped off the bails dismissal confirmed by the tv umpire darren lehmann was bowled by kaneria for five but michael clarke joined martyn in stand of for the fifth wicket before he was caught by the revived inzamam off mohammad sami for martyn reached three figures in the next over ball knock featuring boundaries and ponting immediately made the declaration the pakistan openers walked to the middle under intense pressure and it proved too much for farhat who shouldered arms to an inswinging delivery from mcgrath but partner salman butt survived to reach stumps on eight not out and younis khan drove the day penultimate delivery from jason gillespie through extra cover for four to finish on seven ricky ponting justin langer matthew hayden damien martyn darren lehmann michael clarke adam gilchrist shane warne jason gillespie michael kasprowicz glenn mcgrath th man brett lee inzamam ul haq imran farhat salman butt younis khan yousuf youhanna abdul razzaq kamran akmal shoaib akhtar danish kaneria mohammad sami mohammad khalil th man yasir hameed'"
      ]
     },
     "execution_count": 80,
     "metadata": {},
     "output_type": "execute_result"
    }
   ],
   "source": [
    "clean_articles[54]"
   ]
  },
  {
   "cell_type": "markdown",
   "metadata": {},
   "source": [
    "---\n",
    "Now we will check the most frequent words appearing in the articles."
   ]
  },
  {
   "cell_type": "code",
   "execution_count": 81,
   "metadata": {},
   "outputs": [],
   "source": [
    "# function to plot top 30 most frequent words\n",
    "def freq_words(x, terms = 30):\n",
    "  # combine all the articles  \n",
    "  text = ' '.join([text for text in x])\n",
    "  # split text into words   \n",
    "  all_words = text.split()\n",
    "  \n",
    "  # prepare a dictionary of word-frequency pairs\n",
    "  fdist = nltk.FreqDist(all_words)\n",
    "  words_df = pd.DataFrame({'word':list(fdist.keys()), 'count':list(fdist.values())})\n",
    "  \n",
    "  # selecting top n most frequent words\n",
    "  d = words_df.nlargest(columns=\"count\", n = terms) \n",
    "  \n",
    "  # plot the word counts  \n",
    "  plt.figure(figsize=(20,5))\n",
    "  ax = sns.barplot(data=d, x= \"word\", y = \"count\")\n",
    "  ax.set(ylabel = 'Count')\n",
    "  plt.show()"
   ]
  },
  {
   "cell_type": "code",
   "execution_count": 82,
   "metadata": {},
   "outputs": [
    {
     "data": {
      "image/png": "[encoded data removed]",
      "text/plain": [
       "<Figure size 1440x360 with 1 Axes>"
      ]
     },
     "metadata": {
      "needs_background": "light"
     },
     "output_type": "display_data"
    }
   ],
   "source": [
    "freq_words(clean_articles)"
   ]
  },
  {
   "cell_type": "markdown",
   "metadata": {},
   "source": [
    "Words like 'the', 'and', 'for', 'on' etc. are in large numbers and they don't really tell us anything about any topic or idea. Hence, we should take off these sort of words and let the more important words come up."
   ]
  },
  {
   "cell_type": "markdown",
   "metadata": {},
   "source": [
    "### 2. Lemmatize Text and Strip Stopwords"
   ]
  },
  {
   "cell_type": "code",
   "execution_count": 83,
   "metadata": {},
   "outputs": [],
   "source": [
    "# load spaCy model\n",
    "nlp = spacy.load('en_core_web_sm')"
   ]
  },
  {
   "cell_type": "code",
   "execution_count": 84,
   "metadata": {},
   "outputs": [],
   "source": [
    "# lemmatization\n",
    "clean_articles = [' '.join([token.lemma_ for token in nlp(x)]) for x in clean_articles]\n",
    "\n",
    "# remove stopwords\n",
    "clean_articles = [' '.join([w for w in x.split() if nlp.vocab[w].is_stop==False]) for x in clean_articles]"
   ]
  },
  {
   "cell_type": "code",
   "execution_count": 85,
   "metadata": {},
   "outputs": [
    {
     "data": {
      "text/plain": [
       "'aussie tighten grip test perth day australia dec pakistan close home declare -PRON- second innings lead pakistan close martyn mistake ricky ponting stump justin langer bowl abdul razzaq leave survive close pakistan lose imran farhat lbw glenn mcgrath pakistan help absence skipper inzamam ul haq paceman shoaib akhtar afternoon inzamam stay dressing room suffer stomach upset shoaib hurt -PRON- left shoulder try diving save field -PRON- wicket fall morning bowling matthew hayden inswinger australia advance -PRON- score langer arrive ball -PRON- strike -PRON- pont share second wicket stand -PRON- look odd -PRON- man innings test waca razzaq find way -PRON- attempt drive langer innings high run scorer test include century pont tea interval set reach figure time year -PRON- deny -PRON- miss attempt sweep danish kaneria keeper kamran akmal whip bail dismissal confirm tv umpire darren lehmann bowl kaneria michael clarke join martyn stand fifth wicket -PRON- catch revive inzamam mohammad sami martyn reach figure ball knock feature boundary pont immediately declaration pakistan opener walk middle intense pressure -PRON- prove farhat shoulder arm inswing delivery mcgrath partner salman butt survive reach stump younis khan drive day penultimate delivery jason gillespie extra cover finish seven ricky pont justin langer matthew hayden damien martyn darren lehmann michael clarke adam gilchrist shane warne jason gillespie michael kasprowicz glenn mcgrath th man brett lee inzamam ul haq imran farhat salman butt younis khan yousuf youhanna abdul razzaq kamran akmal shoaib akhtar danish kaneria mohammad sami mohammad khalil th man yasir hame'"
      ]
     },
     "execution_count": 85,
     "metadata": {},
     "output_type": "execute_result"
    }
   ],
   "source": [
    "clean_articles[54]"
   ]
  },
  {
   "cell_type": "code",
   "execution_count": 84,
   "metadata": {},
   "outputs": [
    {
     "data": {
      "image/png": "[encoded data removed]",
      "text/plain": [
       "<Figure size 1440x360 with 1 Axes>"
      ]
     },
     "metadata": {
      "needs_background": "light"
     },
     "output_type": "display_data"
    }
   ],
   "source": [
    "freq_words(clean_articles)"
   ]
  },
  {
   "cell_type": "markdown",
   "metadata": {},
   "source": [
    "Most of the stopwords have been removed. However, quite a many pronouns have been replaced with the tag __-PRON-__. This is a technical issue with spaCy. We will have to manually remove it."
   ]
  },
  {
   "cell_type": "code",
   "execution_count": 86,
   "metadata": {},
   "outputs": [],
   "source": [
    "# remove -PRON- tags\n",
    "clean_articles = [re.sub('-PRON-',  '', i) for i in clean_articles]"
   ]
  },
  {
   "cell_type": "code",
   "execution_count": 86,
   "metadata": {},
   "outputs": [
    {
     "data": {
      "image/png": "[encoded data removed]",
      "text/plain": [
       "<Figure size 1440x360 with 1 Axes>"
      ]
     },
     "metadata": {
      "needs_background": "light"
     },
     "output_type": "display_data"
    }
   ],
   "source": [
    "freq_words(clean_articles)"
   ]
  },
  {
   "cell_type": "markdown",
   "metadata": {},
   "source": [
    "<br>\n",
    "\n",
    "## Topic Modeling"
   ]
  },
  {
   "cell_type": "markdown",
   "metadata": {},
   "source": [
    "__Document-Term-Matrix__\n",
    "\n",
    "<img src=\"table.png\">"
   ]
  },
  {
   "cell_type": "code",
   "execution_count": 87,
   "metadata": {},
   "outputs": [],
   "source": [
    "def get_words(x):\n",
    "  # combine all the articles  \n",
    "  text = ' '.join([text for text in x])\n",
    "  # split text into words   \n",
    "  return set(text.split())"
   ]
  },
  {
   "cell_type": "code",
   "execution_count": 88,
   "metadata": {},
   "outputs": [
    {
     "data": {
      "text/plain": [
       "7584"
      ]
     },
     "execution_count": 88,
     "metadata": {},
     "output_type": "execute_result"
    }
   ],
   "source": [
    "# get unique words in the articles\n",
    "unique_words = get_words(clean_articles)\n",
    "\n",
    "# count of unique words\n",
    "len(unique_words)"
   ]
  },
  {
   "cell_type": "markdown",
   "metadata": {},
   "source": [
    "This is the first step towards topic modeling. We will use sklearn's TfidfVectorizer to create a document-term matrix with 1000 terms.\n",
    "\n",
    "__1. Vectorization__"
   ]
  },
  {
   "cell_type": "code",
   "execution_count": 89,
   "metadata": {},
   "outputs": [],
   "source": [
    "from sklearn.feature_extraction.text import TfidfVectorizer"
   ]
  },
  {
   "cell_type": "code",
   "execution_count": 90,
   "metadata": {},
   "outputs": [
    {
     "data": {
      "text/plain": [
       "(471, 7584)"
      ]
     },
     "execution_count": 90,
     "metadata": {},
     "output_type": "execute_result"
    }
   ],
   "source": [
    "vectorizer = TfidfVectorizer()\n",
    "    \n",
    "X = vectorizer.fit_transform(clean_articles)\n",
    "\n",
    "X.shape"
   ]
  },
  {
   "cell_type": "code",
   "execution_count": 91,
   "metadata": {},
   "outputs": [],
   "source": [
    "X_df = pd.SparseDataFrame(X, columns=vectorizer.get_feature_names(), index=range(len(clean_articles)), default_fill_value=0)"
   ]
  },
  {
   "cell_type": "code",
   "execution_count": 92,
   "metadata": {},
   "outputs": [
    {
     "data": {
      "text/html": [
       "<div>\n",
       "<style scoped>\n",
       "    .dataframe tbody tr th:only-of-type {\n",
       "        vertical-align: middle;\n",
       "    }\n",
       "\n",
       "    .dataframe tbody tr th {\n",
       "        vertical-align: top;\n",
       "    }\n",
       "\n",
       "    .dataframe thead th {\n",
       "        text-align: right;\n",
       "    }\n",
       "</style>\n",
       "<table border=\"1\" class=\"dataframe\">\n",
       "  <thead>\n",
       "    <tr style=\"text-align: right;\">\n",
       "      <th></th>\n",
       "      <th>carefully</th>\n",
       "      <th>caretaker</th>\n",
       "      <th>carl</th>\n",
       "      <th>carlisle</th>\n",
       "      <th>carlo</th>\n",
       "      <th>carlsen</th>\n",
       "      <th>carolina</th>\n",
       "      <th>carr</th>\n",
       "      <th>carrier</th>\n",
       "      <th>carroll</th>\n",
       "      <th>carry</th>\n",
       "      <th>carter</th>\n",
       "      <th>cartilage</th>\n",
       "      <th>carve</th>\n",
       "      <th>carwyn</th>\n",
       "      <th>cas</th>\n",
       "      <th>case</th>\n",
       "      <th>casey</th>\n",
       "      <th>cash</th>\n",
       "      <th>casson</th>\n",
       "    </tr>\n",
       "  </thead>\n",
       "  <tbody>\n",
       "    <tr>\n",
       "      <th>0</th>\n",
       "      <td>0.0</td>\n",
       "      <td>0.0</td>\n",
       "      <td>0.0</td>\n",
       "      <td>0.0</td>\n",
       "      <td>0.0</td>\n",
       "      <td>0.0</td>\n",
       "      <td>0.0</td>\n",
       "      <td>0.0</td>\n",
       "      <td>0.0</td>\n",
       "      <td>0.0</td>\n",
       "      <td>0.000000</td>\n",
       "      <td>0.0</td>\n",
       "      <td>0.0</td>\n",
       "      <td>0.0</td>\n",
       "      <td>0.000000</td>\n",
       "      <td>0.000000</td>\n",
       "      <td>0.000000</td>\n",
       "      <td>0.0</td>\n",
       "      <td>0.0</td>\n",
       "      <td>0.0</td>\n",
       "    </tr>\n",
       "    <tr>\n",
       "      <th>1</th>\n",
       "      <td>0.0</td>\n",
       "      <td>0.0</td>\n",
       "      <td>0.0</td>\n",
       "      <td>0.0</td>\n",
       "      <td>0.0</td>\n",
       "      <td>0.0</td>\n",
       "      <td>0.0</td>\n",
       "      <td>0.0</td>\n",
       "      <td>0.0</td>\n",
       "      <td>0.0</td>\n",
       "      <td>0.075926</td>\n",
       "      <td>0.0</td>\n",
       "      <td>0.0</td>\n",
       "      <td>0.0</td>\n",
       "      <td>0.000000</td>\n",
       "      <td>0.000000</td>\n",
       "      <td>0.000000</td>\n",
       "      <td>0.0</td>\n",
       "      <td>0.0</td>\n",
       "      <td>0.0</td>\n",
       "    </tr>\n",
       "    <tr>\n",
       "      <th>2</th>\n",
       "      <td>0.0</td>\n",
       "      <td>0.0</td>\n",
       "      <td>0.0</td>\n",
       "      <td>0.0</td>\n",
       "      <td>0.0</td>\n",
       "      <td>0.0</td>\n",
       "      <td>0.0</td>\n",
       "      <td>0.0</td>\n",
       "      <td>0.0</td>\n",
       "      <td>0.0</td>\n",
       "      <td>0.000000</td>\n",
       "      <td>0.0</td>\n",
       "      <td>0.0</td>\n",
       "      <td>0.0</td>\n",
       "      <td>0.000000</td>\n",
       "      <td>0.000000</td>\n",
       "      <td>0.000000</td>\n",
       "      <td>0.0</td>\n",
       "      <td>0.0</td>\n",
       "      <td>0.0</td>\n",
       "    </tr>\n",
       "    <tr>\n",
       "      <th>3</th>\n",
       "      <td>0.0</td>\n",
       "      <td>0.0</td>\n",
       "      <td>0.0</td>\n",
       "      <td>0.0</td>\n",
       "      <td>0.0</td>\n",
       "      <td>0.0</td>\n",
       "      <td>0.0</td>\n",
       "      <td>0.0</td>\n",
       "      <td>0.0</td>\n",
       "      <td>0.0</td>\n",
       "      <td>0.000000</td>\n",
       "      <td>0.0</td>\n",
       "      <td>0.0</td>\n",
       "      <td>0.0</td>\n",
       "      <td>0.000000</td>\n",
       "      <td>0.000000</td>\n",
       "      <td>0.000000</td>\n",
       "      <td>0.0</td>\n",
       "      <td>0.0</td>\n",
       "      <td>0.0</td>\n",
       "    </tr>\n",
       "    <tr>\n",
       "      <th>4</th>\n",
       "      <td>0.0</td>\n",
       "      <td>0.0</td>\n",
       "      <td>0.0</td>\n",
       "      <td>0.0</td>\n",
       "      <td>0.0</td>\n",
       "      <td>0.0</td>\n",
       "      <td>0.0</td>\n",
       "      <td>0.0</td>\n",
       "      <td>0.0</td>\n",
       "      <td>0.0</td>\n",
       "      <td>0.000000</td>\n",
       "      <td>0.0</td>\n",
       "      <td>0.0</td>\n",
       "      <td>0.0</td>\n",
       "      <td>0.000000</td>\n",
       "      <td>0.000000</td>\n",
       "      <td>0.000000</td>\n",
       "      <td>0.0</td>\n",
       "      <td>0.0</td>\n",
       "      <td>0.0</td>\n",
       "    </tr>\n",
       "    <tr>\n",
       "      <th>5</th>\n",
       "      <td>0.0</td>\n",
       "      <td>0.0</td>\n",
       "      <td>0.0</td>\n",
       "      <td>0.0</td>\n",
       "      <td>0.0</td>\n",
       "      <td>0.0</td>\n",
       "      <td>0.0</td>\n",
       "      <td>0.0</td>\n",
       "      <td>0.0</td>\n",
       "      <td>0.0</td>\n",
       "      <td>0.000000</td>\n",
       "      <td>0.0</td>\n",
       "      <td>0.0</td>\n",
       "      <td>0.0</td>\n",
       "      <td>0.000000</td>\n",
       "      <td>0.000000</td>\n",
       "      <td>0.000000</td>\n",
       "      <td>0.0</td>\n",
       "      <td>0.0</td>\n",
       "      <td>0.0</td>\n",
       "    </tr>\n",
       "    <tr>\n",
       "      <th>6</th>\n",
       "      <td>0.0</td>\n",
       "      <td>0.0</td>\n",
       "      <td>0.0</td>\n",
       "      <td>0.0</td>\n",
       "      <td>0.0</td>\n",
       "      <td>0.0</td>\n",
       "      <td>0.0</td>\n",
       "      <td>0.0</td>\n",
       "      <td>0.0</td>\n",
       "      <td>0.0</td>\n",
       "      <td>0.000000</td>\n",
       "      <td>0.0</td>\n",
       "      <td>0.0</td>\n",
       "      <td>0.0</td>\n",
       "      <td>0.000000</td>\n",
       "      <td>0.000000</td>\n",
       "      <td>0.000000</td>\n",
       "      <td>0.0</td>\n",
       "      <td>0.0</td>\n",
       "      <td>0.0</td>\n",
       "    </tr>\n",
       "    <tr>\n",
       "      <th>7</th>\n",
       "      <td>0.0</td>\n",
       "      <td>0.0</td>\n",
       "      <td>0.0</td>\n",
       "      <td>0.0</td>\n",
       "      <td>0.0</td>\n",
       "      <td>0.0</td>\n",
       "      <td>0.0</td>\n",
       "      <td>0.0</td>\n",
       "      <td>0.0</td>\n",
       "      <td>0.0</td>\n",
       "      <td>0.000000</td>\n",
       "      <td>0.0</td>\n",
       "      <td>0.0</td>\n",
       "      <td>0.0</td>\n",
       "      <td>0.027865</td>\n",
       "      <td>0.000000</td>\n",
       "      <td>0.000000</td>\n",
       "      <td>0.0</td>\n",
       "      <td>0.0</td>\n",
       "      <td>0.0</td>\n",
       "    </tr>\n",
       "    <tr>\n",
       "      <th>8</th>\n",
       "      <td>0.0</td>\n",
       "      <td>0.0</td>\n",
       "      <td>0.0</td>\n",
       "      <td>0.0</td>\n",
       "      <td>0.0</td>\n",
       "      <td>0.0</td>\n",
       "      <td>0.0</td>\n",
       "      <td>0.0</td>\n",
       "      <td>0.0</td>\n",
       "      <td>0.0</td>\n",
       "      <td>0.000000</td>\n",
       "      <td>0.0</td>\n",
       "      <td>0.0</td>\n",
       "      <td>0.0</td>\n",
       "      <td>0.000000</td>\n",
       "      <td>0.000000</td>\n",
       "      <td>0.000000</td>\n",
       "      <td>0.0</td>\n",
       "      <td>0.0</td>\n",
       "      <td>0.0</td>\n",
       "    </tr>\n",
       "    <tr>\n",
       "      <th>9</th>\n",
       "      <td>0.0</td>\n",
       "      <td>0.0</td>\n",
       "      <td>0.0</td>\n",
       "      <td>0.0</td>\n",
       "      <td>0.0</td>\n",
       "      <td>0.0</td>\n",
       "      <td>0.0</td>\n",
       "      <td>0.0</td>\n",
       "      <td>0.0</td>\n",
       "      <td>0.0</td>\n",
       "      <td>0.000000</td>\n",
       "      <td>0.0</td>\n",
       "      <td>0.0</td>\n",
       "      <td>0.0</td>\n",
       "      <td>0.000000</td>\n",
       "      <td>0.141653</td>\n",
       "      <td>0.091388</td>\n",
       "      <td>0.0</td>\n",
       "      <td>0.0</td>\n",
       "      <td>0.0</td>\n",
       "    </tr>\n",
       "  </tbody>\n",
       "</table>\n",
       "</div>"
      ],
      "text/plain": [
       "   carefully  caretaker  carl  carlisle  carlo  carlsen  carolina  carr  \\\n",
       "0        0.0        0.0   0.0       0.0    0.0      0.0       0.0   0.0   \n",
       "1        0.0        0.0   0.0       0.0    0.0      0.0       0.0   0.0   \n",
       "2        0.0        0.0   0.0       0.0    0.0      0.0       0.0   0.0   \n",
       "3        0.0        0.0   0.0       0.0    0.0      0.0       0.0   0.0   \n",
       "4        0.0        0.0   0.0       0.0    0.0      0.0       0.0   0.0   \n",
       "5        0.0        0.0   0.0       0.0    0.0      0.0       0.0   0.0   \n",
       "6        0.0        0.0   0.0       0.0    0.0      0.0       0.0   0.0   \n",
       "7        0.0        0.0   0.0       0.0    0.0      0.0       0.0   0.0   \n",
       "8        0.0        0.0   0.0       0.0    0.0      0.0       0.0   0.0   \n",
       "9        0.0        0.0   0.0       0.0    0.0      0.0       0.0   0.0   \n",
       "\n",
       "   carrier  carroll     carry  carter  cartilage  carve    carwyn       cas  \\\n",
       "0      0.0      0.0  0.000000     0.0        0.0    0.0  0.000000  0.000000   \n",
       "1      0.0      0.0  0.075926     0.0        0.0    0.0  0.000000  0.000000   \n",
       "2      0.0      0.0  0.000000     0.0        0.0    0.0  0.000000  0.000000   \n",
       "3      0.0      0.0  0.000000     0.0        0.0    0.0  0.000000  0.000000   \n",
       "4      0.0      0.0  0.000000     0.0        0.0    0.0  0.000000  0.000000   \n",
       "5      0.0      0.0  0.000000     0.0        0.0    0.0  0.000000  0.000000   \n",
       "6      0.0      0.0  0.000000     0.0        0.0    0.0  0.000000  0.000000   \n",
       "7      0.0      0.0  0.000000     0.0        0.0    0.0  0.027865  0.000000   \n",
       "8      0.0      0.0  0.000000     0.0        0.0    0.0  0.000000  0.000000   \n",
       "9      0.0      0.0  0.000000     0.0        0.0    0.0  0.000000  0.141653   \n",
       "\n",
       "       case  casey  cash  casson  \n",
       "0  0.000000    0.0   0.0     0.0  \n",
       "1  0.000000    0.0   0.0     0.0  \n",
       "2  0.000000    0.0   0.0     0.0  \n",
       "3  0.000000    0.0   0.0     0.0  \n",
       "4  0.000000    0.0   0.0     0.0  \n",
       "5  0.000000    0.0   0.0     0.0  \n",
       "6  0.000000    0.0   0.0     0.0  \n",
       "7  0.000000    0.0   0.0     0.0  \n",
       "8  0.000000    0.0   0.0     0.0  \n",
       "9  0.091388    0.0   0.0     0.0  "
      ]
     },
     "execution_count": 92,
     "metadata": {},
     "output_type": "execute_result"
    }
   ],
   "source": [
    "X_df.iloc[:10,1000:1020]"
   ]
  },
  {
   "cell_type": "code",
   "execution_count": 94,
   "metadata": {},
   "outputs": [
    {
     "data": {
      "text/plain": [
       "(471, 1000)"
      ]
     },
     "execution_count": 94,
     "metadata": {},
     "output_type": "execute_result"
    }
   ],
   "source": [
    "vectorizer = TfidfVectorizer()\n",
    "vectorizer = TfidfVectorizer(max_features= 1000, # keep top 1000 most important terms \n",
    "                             min_df= 5,\n",
    "                             max_df = 0.9)\n",
    "    \n",
    "X = vectorizer.fit_transform(clean_articles)\n",
    "\n",
    "X.shape # check shape of the document-term matrix"
   ]
  },
  {
   "cell_type": "markdown",
   "metadata": {},
   "source": [
    "__2. Dimensionality Reduction__\n",
    "\n",
    "The next step is to represent each and every term and document as a vector.  \n",
    "* Specify the number of topics.\n",
    "* Decompose the document-term matrix into 2 matrix.\n",
    "    1. Document-Topic Matrix\n",
    "    2. Topic-Term Matrix\n",
    "  \n",
    "  ![](https://s3-ap-south-1.amazonaws.com/av-blog-media/wp-content/uploads/2018/09/Screenshot_7.png)\n",
    "  \n",
    "* Use sklearn's TruncatedSVD to perform the task of matrix decomposition. "
   ]
  },
  {
   "cell_type": "code",
   "execution_count": 111,
   "metadata": {},
   "outputs": [],
   "source": [
    "from sklearn.decomposition import TruncatedSVD\n",
    "\n",
    "# SVD represent documents and terms in vectors \n",
    "svd_model = TruncatedSVD(n_components=4, random_state=12, n_iter=100)"
   ]
  },
  {
   "cell_type": "code",
   "execution_count": 112,
   "metadata": {},
   "outputs": [
    {
     "data": {
      "text/plain": [
       "TruncatedSVD(algorithm='randomized', n_components=4, n_iter=100,\n",
       "       random_state=12, tol=0.0)"
      ]
     },
     "execution_count": 112,
     "metadata": {},
     "output_type": "execute_result"
    }
   ],
   "source": [
    "svd_model.fit(X)"
   ]
  },
  {
   "cell_type": "markdown",
   "metadata": {},
   "source": [
    "The components of svd_model are our topics and we can access them using svdmodel.components. Finally let's print a few most important words in each of the 4 topics and see how good our model is."
   ]
  },
  {
   "cell_type": "code",
   "execution_count": 113,
   "metadata": {},
   "outputs": [
    {
     "name": "stdout",
     "output_type": "stream",
     "text": [
      "Topic 0: \n",
      "['england', 'win', 'play', 'year', 'game', 'good', 'test', 'match', 'world', 'player', 'team', 'wale', 'ireland', 'final', 'time', 'day', 'cricket', 'new', 'rugby', 'second', 'come', 'france', 'set', 'run', 'open', 'injury', 'coach', 'cup', 'think', 'tour', 'half', 'australia', 'south', 'nation', 'start', 'international', 'series', 'victory', 'champion', 'beat', 'try', 'week', 'captain', 'great', 'robinson', 'season', 'william', 'ball', 'lose', 've']\n",
      "\n",
      "\n",
      "Topic 1: \n",
      "['olympic', 'indoor', 'champion', 'win', 'seed', 'world', 'title', 'race', 'open', 'final', 'set', 'european', 'year', 'holme', 'roddick', 'woman', 'federer', 'event', 'championship', 'athen', 'compete', 'round', 'record', 'britain', 'birmingham', 'athlete', 'hewitt', 'gold', 'break', 'grand', 'beat', 'american', 'jump', 'british', 'medal', 'agassi', 'australian', 'athletic', 'second', 'davenport', 'marathon', 'double', 'madrid', 'tennis', 'old', 'cross', 'russian', 'henman', 'wimbledon', 'safin']\n",
      "\n",
      "\n",
      "Topic 2: \n",
      "['england', 'wale', 'ireland', 'robinson', 'france', 'nation', 'rugby', 'half', 'scotland', 'italy', 'william', 'try', 'kick', 'coach', 'leicester', 'penalty', 'bath', 'wilkinson', 'game', 'centre', 'hodgson', 'player', 'lion', 'henson', 'gara', 'driscoll', 'ruddock', 'irish', 'injury', 'stade', 'thoma', 'andy', 'laporte', 'barkley', 'scrum', 'wing', 'cardiff', 'lewsey', 'fly', 'cueto', 'slam', 'welsh', 'flanker', 'twickenham', 'sale', 'woodward', 'referee', 'gloucester', 'replacement', 'cup']\n",
      "\n",
      "\n",
      "Topic 3: \n",
      "['kenteris', 'olympic', 'greek', 'thanou', 'iaaf', 'drug', 'athen', 'athletic', 'athlete', 'charge', 'england', 'ban', 'sprinter', 'dope', 'miss', 'test', 'tribunal', 'robinson', 'holme', 'ireland', 'wale', 'decision', 'federation', 'rugby', 'race', 'trial', 'indoor', 'medal', 'european', 'evidence', 'sport', 'nation', 'suspend', 'marathon', 'conte', 'kosta', 'coach', 'pair', 'gold', 'birmingham', 'radcliffe', 'katerina', 'balco', 'collin', 'training', 'compete', 'hearing', 'rule', 'case', 'committee']\n",
      "\n",
      "\n"
     ]
    }
   ],
   "source": [
    "# get column names of document term matrix\n",
    "terms = vectorizer.get_feature_names()\n",
    "\n",
    "for i, comp in enumerate(svd_model.components_):\n",
    "    terms_comp = zip(terms, comp)\n",
    "    sorted_terms = sorted(terms_comp, key= lambda x:x[1], reverse=True)[:50]\n",
    "    \n",
    "    print(\"Topic \"+str(i)+\": \")\n",
    "    topics = []\n",
    "    for t in sorted_terms:\n",
    "        topics.append(t[0])\n",
    "    \n",
    "    print(topics)\n",
    "    print('\\n')"
   ]
  },
  {
   "cell_type": "markdown",
   "metadata": {},
   "source": [
    "## Article Categorization"
   ]
  },
  {
   "cell_type": "code",
   "execution_count": 114,
   "metadata": {},
   "outputs": [
    {
     "data": {
      "text/plain": [
       "(471, 4)"
      ]
     },
     "execution_count": 114,
     "metadata": {},
     "output_type": "execute_result"
    }
   ],
   "source": [
    "lsa_topic_matrix = svd_model.transform(X)\n",
    "lsa_topic_matrix.shape"
   ]
  },
  {
   "cell_type": "code",
   "execution_count": 115,
   "metadata": {},
   "outputs": [
    {
     "data": {
      "text/plain": [
       "array([ 0.36980917,  0.18453593,  0.01711294, -0.19797186])"
      ]
     },
     "execution_count": 115,
     "metadata": {},
     "output_type": "execute_result"
    }
   ],
   "source": [
    "lsa_topic_matrix[41]"
   ]
  },
  {
   "cell_type": "code",
   "execution_count": 129,
   "metadata": {},
   "outputs": [
    {
     "data": {
      "text/plain": [
       "'IAAF will contest Greek decision\\n\\nThe International Association of Athletics Federations will appeal against the acquittal of Greek athletes Kostas Kenteris and Katerina Thanou.\\n\\nThe high-profile duo were cleared of doping offences by the Greek Athletics Federation (Segas) last month. Now the IAAF will lodge an appeal with the Court of Arbitration for Sport (CAS) and has suspended both athletes. An IAAF statement said: \"The Doping Review Board concluded that the decision is erroneous.\" The statement continued: \"Both athletes\\' cases will be refered to arbitration before the CAS. The decision in both cases will be final and binding.\"\\n\\nSegas said the IAAF appeal was \"expected\" and \"understandable.\" \"Now we are going to await the final result, which we cannot prejudge,\" said Segas chairman Vassilis Sevastis. Kenteris, who won Olympic 200m gold at the 2000 Olympics, and Thanou were suspended by the IAAF last December after failing to take routine drugs tests before the Athens Games. However, the independent tribunal overturned those bans, clearing the sprinters of avoiding tests in Tel Aviv, Chicago and Athens and failing to notify anti-doping officials of their whereabouts before the Olympics.\\n\\nKenteris\\' lawyer Gregory Ioannidis described the IAAF\\'s decision as \"not unexpected\" but told BBC Sport he did not expect the organisation to take action so quickly. \"The IAAF\\'s timing is extremely surprising and it creates concerns and questions,\" said Ioannidis. \"The IAAF has not yet received the complete file of proceedings which include statements, testimonies, the closing speeches of defence counsel... and nine audio tapes.\\n\\n\"We have the evidence and it is time the world discovered the truth.\" Kenteris and Thanou dramatically withdrew from last summer\\'s Olympics after missing a drugs test at the Olympic Village on 12 August. The pair then spent four days in a hospital, claiming they had been injured in a motorcycle crash. It was the International Olympic Committee who demanded the IAAF investigate the affair. Thanou and Kenteris still face a criminal trial later this year for allegedly avoiding the test and then faking a motorcycle accident\\n'"
      ]
     },
     "execution_count": 129,
     "metadata": {},
     "output_type": "execute_result"
    }
   ],
   "source": [
    "articles[9]"
   ]
  },
  {
   "cell_type": "code",
   "execution_count": 130,
   "metadata": {},
   "outputs": [
    {
     "data": {
      "text/plain": [
       "3"
      ]
     },
     "execution_count": 130,
     "metadata": {},
     "output_type": "execute_result"
    }
   ],
   "source": [
    "np.argmax(lsa_topic_matrix[9])"
   ]
  },
  {
   "cell_type": "code",
   "execution_count": 131,
   "metadata": {},
   "outputs": [
    {
     "data": {
      "text/plain": [
       "\"Bangladesh build platform\\n\\nFirst Test, Chittagong, day two (stumps): Bangladesh 488 v Zimbabwe 84-4\\n\\nThey began by extending their overnight 280-4 by 208 in just over two sessions, for their highest Test total of 488. Rajin Saleh led the way with 89 and Mohammad Rafique hit four sixes in his 69, sharing stands of 69 and 62 with Khaled Mashud and Mashrafe bin Mortaza. Zimbabwe then lost four wickets inside 21 overs before a slight recovery. The home side had only passed 400 twice previously in 34 Tests, scoring 400 against India in their inaugural match in 2000 and 416 in the West Indies last year. They suffered an early setback when Aftab Ahmed was lbw to Christopher Mpofu for six in the third over of play.\\n\\nBut Saleh, who was 60 not out overnight, progressed to his best score in Tests before departing with the total on 341. Mashud's innings was sedate in tempo, taking up 120 balls and featuring only six boundaries, and he was denied a half century when he became 18-year-old Graeme Cremer's first Test victim. Leg-spinner Cremer found the edge and Mluleki Nkala, the sole slip fielder, made no mistake. Mashud's departure signalled an end to the niceties as Rafique and Mortaza tore into tiring bowlers.\\n\\nIn contrast to the opening session in which only 66 runs were scored, the duo went along at six an over before Rafique was caught behind off Mpofu. But Mortaza struck eight fours as he went past his previous best of 29, reaching 40 not out at tea. Mpofu bowled Tapash Baisya for six in the first over following the re-start, but Mortaza responded by hoisting Matsikenyeri over mid-wicket for six. The innings finally came to an end when Mortaza, on 48, cut a ball from Cremer into the hands of Vusi Sibanda at backward point. Mpofu finished with 4-109 for the Zimbabweans in his debut Test appearance. Matsikenyeri got Zimbabwe off to a fluent start, with five fours in his 28 from 30 balls before he was caught at slip in the eighth over. Vusimuzi Sibanda scored all of his 12 runs in boundaries before he was trapped by Mohammad Rafique, the left-arm spinner also snaring Cremer third ball for a duck. Opener Barney Rogers was more watchful, taking 28 deliveries to open his account, but he was run out at the non-striker's end when Enamul Haque diverted a ball onto the stumps. Hamilton Masakadza remained undefeated, with four fours in his 28, sharing an unbroken 25 with Brendon Taylor who hit two fours in his eight not out, as three boundaries came in the final two overs.\\n\\nHabibul Bashar (captain), Khaled Mashud, Nafis Iqbal, Javed Omar, Mohammed Ashraful, Rajin Saleh, Aftab Ahmed, Mohammed Rafique, Enamul Haque, Tapash Baishya and Mashrafe bin Mortaza.\\n\\nTatenda Taibu (captain), Elton Chigumbura, Stuart Matsikenyeri, Barney Rogers, Vusimuzi Sibanda, Hamilton Masakadza, Brendan Taylor, Graeme Cremer, Christopher Mpofu, Douglas Hondo, Mluleki Nkala. Umpires: T Wijewardena (Sri), Asad Rauf (Pkn)\\n\""
      ]
     },
     "execution_count": 131,
     "metadata": {},
     "output_type": "execute_result"
    }
   ],
   "source": [
    "articles[10]"
   ]
  },
  {
   "cell_type": "code",
   "execution_count": 132,
   "metadata": {},
   "outputs": [
    {
     "data": {
      "text/plain": [
       "0"
      ]
     },
     "execution_count": 132,
     "metadata": {},
     "output_type": "execute_result"
    }
   ],
   "source": [
    "np.argmax(lsa_topic_matrix[10])"
   ]
  },
  {
   "cell_type": "markdown",
   "metadata": {},
   "source": [
    "## Challenge\n",
    "\n",
    "Use Latent Dirichlet Allocation (LDA) to build a topic model on the same dataset and compare its results with the above topics."
   ]
  },
  {
   "cell_type": "code",
   "execution_count": null,
   "metadata": {},
   "outputs": [],
   "source": [
    "# your code here\n"
   ]
  }
 ],
 "metadata": {
  "kernelspec": {
   "display_name": "Python 3",
   "language": "python",
   "name": "python3"
  },
  "language_info": {
   "codemirror_mode": {
    "name": "ipython",
    "version": 3
   },
   "file_extension": ".py",
   "mimetype": "text/x-python",
   "name": "python",
   "nbconvert_exporter": "python",
   "pygments_lexer": "ipython3",
   "version": "3.7.4"
  }
 },
 "nbformat": 4,
 "nbformat_minor": 2
}
